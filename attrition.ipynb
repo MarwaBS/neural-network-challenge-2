{
 "cells": [
  {
   "cell_type": "markdown",
   "metadata": {
    "id": "alIIEHibGc3M"
   },
   "source": [
    "## Part 1: Preprocessing"
   ]
  },
  {
   "cell_type": "code",
   "execution_count": 1,
   "metadata": {
    "colab": {
     "base_uri": "https://localhost:8080/",
     "height": 325
    },
    "id": "6eDUJ4NtGc3P",
    "outputId": "48f82658-f065-46ac-9166-c8a3b6d764cb"
   },
   "outputs": [
    {
     "data": {
      "text/html": [
       "<div>\n",
       "<style scoped>\n",
       "    .dataframe tbody tr th:only-of-type {\n",
       "        vertical-align: middle;\n",
       "    }\n",
       "\n",
       "    .dataframe tbody tr th {\n",
       "        vertical-align: top;\n",
       "    }\n",
       "\n",
       "    .dataframe thead th {\n",
       "        text-align: right;\n",
       "    }\n",
       "</style>\n",
       "<table border=\"1\" class=\"dataframe\">\n",
       "  <thead>\n",
       "    <tr style=\"text-align: right;\">\n",
       "      <th></th>\n",
       "      <th>Age</th>\n",
       "      <th>Attrition</th>\n",
       "      <th>BusinessTravel</th>\n",
       "      <th>Department</th>\n",
       "      <th>DistanceFromHome</th>\n",
       "      <th>Education</th>\n",
       "      <th>EducationField</th>\n",
       "      <th>EnvironmentSatisfaction</th>\n",
       "      <th>HourlyRate</th>\n",
       "      <th>JobInvolvement</th>\n",
       "      <th>...</th>\n",
       "      <th>PerformanceRating</th>\n",
       "      <th>RelationshipSatisfaction</th>\n",
       "      <th>StockOptionLevel</th>\n",
       "      <th>TotalWorkingYears</th>\n",
       "      <th>TrainingTimesLastYear</th>\n",
       "      <th>WorkLifeBalance</th>\n",
       "      <th>YearsAtCompany</th>\n",
       "      <th>YearsInCurrentRole</th>\n",
       "      <th>YearsSinceLastPromotion</th>\n",
       "      <th>YearsWithCurrManager</th>\n",
       "    </tr>\n",
       "  </thead>\n",
       "  <tbody>\n",
       "    <tr>\n",
       "      <th>0</th>\n",
       "      <td>41</td>\n",
       "      <td>Yes</td>\n",
       "      <td>Travel_Rarely</td>\n",
       "      <td>Sales</td>\n",
       "      <td>1</td>\n",
       "      <td>2</td>\n",
       "      <td>Life Sciences</td>\n",
       "      <td>2</td>\n",
       "      <td>94</td>\n",
       "      <td>3</td>\n",
       "      <td>...</td>\n",
       "      <td>3</td>\n",
       "      <td>1</td>\n",
       "      <td>0</td>\n",
       "      <td>8</td>\n",
       "      <td>0</td>\n",
       "      <td>1</td>\n",
       "      <td>6</td>\n",
       "      <td>4</td>\n",
       "      <td>0</td>\n",
       "      <td>5</td>\n",
       "    </tr>\n",
       "    <tr>\n",
       "      <th>1</th>\n",
       "      <td>49</td>\n",
       "      <td>No</td>\n",
       "      <td>Travel_Frequently</td>\n",
       "      <td>Research &amp; Development</td>\n",
       "      <td>8</td>\n",
       "      <td>1</td>\n",
       "      <td>Life Sciences</td>\n",
       "      <td>3</td>\n",
       "      <td>61</td>\n",
       "      <td>2</td>\n",
       "      <td>...</td>\n",
       "      <td>4</td>\n",
       "      <td>4</td>\n",
       "      <td>1</td>\n",
       "      <td>10</td>\n",
       "      <td>3</td>\n",
       "      <td>3</td>\n",
       "      <td>10</td>\n",
       "      <td>7</td>\n",
       "      <td>1</td>\n",
       "      <td>7</td>\n",
       "    </tr>\n",
       "    <tr>\n",
       "      <th>2</th>\n",
       "      <td>37</td>\n",
       "      <td>Yes</td>\n",
       "      <td>Travel_Rarely</td>\n",
       "      <td>Research &amp; Development</td>\n",
       "      <td>2</td>\n",
       "      <td>2</td>\n",
       "      <td>Other</td>\n",
       "      <td>4</td>\n",
       "      <td>92</td>\n",
       "      <td>2</td>\n",
       "      <td>...</td>\n",
       "      <td>3</td>\n",
       "      <td>2</td>\n",
       "      <td>0</td>\n",
       "      <td>7</td>\n",
       "      <td>3</td>\n",
       "      <td>3</td>\n",
       "      <td>0</td>\n",
       "      <td>0</td>\n",
       "      <td>0</td>\n",
       "      <td>0</td>\n",
       "    </tr>\n",
       "    <tr>\n",
       "      <th>3</th>\n",
       "      <td>33</td>\n",
       "      <td>No</td>\n",
       "      <td>Travel_Frequently</td>\n",
       "      <td>Research &amp; Development</td>\n",
       "      <td>3</td>\n",
       "      <td>4</td>\n",
       "      <td>Life Sciences</td>\n",
       "      <td>4</td>\n",
       "      <td>56</td>\n",
       "      <td>3</td>\n",
       "      <td>...</td>\n",
       "      <td>3</td>\n",
       "      <td>3</td>\n",
       "      <td>0</td>\n",
       "      <td>8</td>\n",
       "      <td>3</td>\n",
       "      <td>3</td>\n",
       "      <td>8</td>\n",
       "      <td>7</td>\n",
       "      <td>3</td>\n",
       "      <td>0</td>\n",
       "    </tr>\n",
       "    <tr>\n",
       "      <th>4</th>\n",
       "      <td>27</td>\n",
       "      <td>No</td>\n",
       "      <td>Travel_Rarely</td>\n",
       "      <td>Research &amp; Development</td>\n",
       "      <td>2</td>\n",
       "      <td>1</td>\n",
       "      <td>Medical</td>\n",
       "      <td>1</td>\n",
       "      <td>40</td>\n",
       "      <td>3</td>\n",
       "      <td>...</td>\n",
       "      <td>3</td>\n",
       "      <td>4</td>\n",
       "      <td>1</td>\n",
       "      <td>6</td>\n",
       "      <td>3</td>\n",
       "      <td>3</td>\n",
       "      <td>2</td>\n",
       "      <td>2</td>\n",
       "      <td>2</td>\n",
       "      <td>2</td>\n",
       "    </tr>\n",
       "  </tbody>\n",
       "</table>\n",
       "<p>5 rows × 27 columns</p>\n",
       "</div>"
      ],
      "text/plain": [
       "   Age Attrition     BusinessTravel              Department  DistanceFromHome  \\\n",
       "0   41       Yes      Travel_Rarely                   Sales                 1   \n",
       "1   49        No  Travel_Frequently  Research & Development                 8   \n",
       "2   37       Yes      Travel_Rarely  Research & Development                 2   \n",
       "3   33        No  Travel_Frequently  Research & Development                 3   \n",
       "4   27        No      Travel_Rarely  Research & Development                 2   \n",
       "\n",
       "   Education EducationField  EnvironmentSatisfaction  HourlyRate  \\\n",
       "0          2  Life Sciences                        2          94   \n",
       "1          1  Life Sciences                        3          61   \n",
       "2          2          Other                        4          92   \n",
       "3          4  Life Sciences                        4          56   \n",
       "4          1        Medical                        1          40   \n",
       "\n",
       "   JobInvolvement  ...  PerformanceRating RelationshipSatisfaction  \\\n",
       "0               3  ...                  3                        1   \n",
       "1               2  ...                  4                        4   \n",
       "2               2  ...                  3                        2   \n",
       "3               3  ...                  3                        3   \n",
       "4               3  ...                  3                        4   \n",
       "\n",
       "   StockOptionLevel TotalWorkingYears  TrainingTimesLastYear WorkLifeBalance  \\\n",
       "0                 0                 8                      0               1   \n",
       "1                 1                10                      3               3   \n",
       "2                 0                 7                      3               3   \n",
       "3                 0                 8                      3               3   \n",
       "4                 1                 6                      3               3   \n",
       "\n",
       "   YearsAtCompany  YearsInCurrentRole  YearsSinceLastPromotion  \\\n",
       "0               6                   4                        0   \n",
       "1              10                   7                        1   \n",
       "2               0                   0                        0   \n",
       "3               8                   7                        3   \n",
       "4               2                   2                        2   \n",
       "\n",
       "   YearsWithCurrManager  \n",
       "0                     5  \n",
       "1                     7  \n",
       "2                     0  \n",
       "3                     0  \n",
       "4                     2  \n",
       "\n",
       "[5 rows x 27 columns]"
      ]
     },
     "execution_count": 1,
     "metadata": {},
     "output_type": "execute_result"
    }
   ],
   "source": [
    "# Import our dependencies\n",
    "from sklearn.model_selection import train_test_split\n",
    "from sklearn.preprocessing import StandardScaler\n",
    "import pandas as pd\n",
    "import numpy as np\n",
    "from tensorflow.keras.models import Model\n",
    "from tensorflow.keras import layers\n",
    "\n",
    "#  Import and read the attrition data\n",
    "attrition_df = pd.read_csv('https://static.bc-edx.com/ai/ail-v-1-0/m19/lms/datasets/attrition.csv')\n",
    "attrition_df.head()"
   ]
  },
  {
   "cell_type": "code",
   "execution_count": 2,
   "metadata": {
    "colab": {
     "base_uri": "https://localhost:8080/",
     "height": 930
    },
    "id": "g22aQSY4Gc3Q",
    "outputId": "6a0c9bec-c144-460a-8578-19e51c9a9976"
   },
   "outputs": [
    {
     "data": {
      "text/plain": [
       "Age                         43\n",
       "Attrition                    2\n",
       "BusinessTravel               3\n",
       "Department                   3\n",
       "DistanceFromHome            29\n",
       "Education                    5\n",
       "EducationField               6\n",
       "EnvironmentSatisfaction      4\n",
       "HourlyRate                  71\n",
       "JobInvolvement               4\n",
       "JobLevel                     5\n",
       "JobRole                      9\n",
       "JobSatisfaction              4\n",
       "MaritalStatus                3\n",
       "NumCompaniesWorked          10\n",
       "OverTime                     2\n",
       "PercentSalaryHike           15\n",
       "PerformanceRating            2\n",
       "RelationshipSatisfaction     4\n",
       "StockOptionLevel             4\n",
       "TotalWorkingYears           40\n",
       "TrainingTimesLastYear        7\n",
       "WorkLifeBalance              4\n",
       "YearsAtCompany              37\n",
       "YearsInCurrentRole          19\n",
       "YearsSinceLastPromotion     16\n",
       "YearsWithCurrManager        18\n",
       "dtype: int64"
      ]
     },
     "execution_count": 2,
     "metadata": {},
     "output_type": "execute_result"
    }
   ],
   "source": [
    "# Determine the number of unique values in each column\n",
    "attrition_df.nunique()"
   ]
  },
  {
   "cell_type": "code",
   "execution_count": 3,
   "metadata": {
    "id": "50vMgBEnJbfM"
   },
   "outputs": [],
   "source": [
    "# Select target variables: 'Attrition' (indicates whether an employee left)\n",
    "# and 'Department' (categorical feature for the employee's department)\n",
    "y_df = attrition_df[['Attrition', 'Department']]"
   ]
  },
  {
   "cell_type": "code",
   "execution_count": 4,
   "metadata": {
    "colab": {
     "base_uri": "https://localhost:8080/",
     "height": 206
    },
    "id": "EDX74XL0gj-s",
    "outputId": "42517213-447b-48cc-80d4-d817fe9b5c27"
   },
   "outputs": [
    {
     "data": {
      "text/html": [
       "<div>\n",
       "<style scoped>\n",
       "    .dataframe tbody tr th:only-of-type {\n",
       "        vertical-align: middle;\n",
       "    }\n",
       "\n",
       "    .dataframe tbody tr th {\n",
       "        vertical-align: top;\n",
       "    }\n",
       "\n",
       "    .dataframe thead th {\n",
       "        text-align: right;\n",
       "    }\n",
       "</style>\n",
       "<table border=\"1\" class=\"dataframe\">\n",
       "  <thead>\n",
       "    <tr style=\"text-align: right;\">\n",
       "      <th></th>\n",
       "      <th>Attrition</th>\n",
       "      <th>Department</th>\n",
       "    </tr>\n",
       "  </thead>\n",
       "  <tbody>\n",
       "    <tr>\n",
       "      <th>0</th>\n",
       "      <td>Yes</td>\n",
       "      <td>Sales</td>\n",
       "    </tr>\n",
       "    <tr>\n",
       "      <th>1</th>\n",
       "      <td>No</td>\n",
       "      <td>Research &amp; Development</td>\n",
       "    </tr>\n",
       "    <tr>\n",
       "      <th>2</th>\n",
       "      <td>Yes</td>\n",
       "      <td>Research &amp; Development</td>\n",
       "    </tr>\n",
       "    <tr>\n",
       "      <th>3</th>\n",
       "      <td>No</td>\n",
       "      <td>Research &amp; Development</td>\n",
       "    </tr>\n",
       "    <tr>\n",
       "      <th>4</th>\n",
       "      <td>No</td>\n",
       "      <td>Research &amp; Development</td>\n",
       "    </tr>\n",
       "  </tbody>\n",
       "</table>\n",
       "</div>"
      ],
      "text/plain": [
       "  Attrition              Department\n",
       "0       Yes                   Sales\n",
       "1        No  Research & Development\n",
       "2       Yes  Research & Development\n",
       "3        No  Research & Development\n",
       "4        No  Research & Development"
      ]
     },
     "execution_count": 4,
     "metadata": {},
     "output_type": "execute_result"
    }
   ],
   "source": [
    "#display a sample of the target data\n",
    "y_df.head()"
   ]
  },
  {
   "cell_type": "code",
   "execution_count": 5,
   "metadata": {
    "colab": {
     "base_uri": "https://localhost:8080/"
    },
    "id": "Virka0zLGc3R",
    "outputId": "4a75ad3a-284b-41ad-d573-f647c8957463"
   },
   "outputs": [
    {
     "name": "stdout",
     "output_type": "stream",
     "text": [
      "Education                   int64\n",
      "Age                         int64\n",
      "DistanceFromHome            int64\n",
      "JobSatisfaction             int64\n",
      "OverTime                   object\n",
      "StockOptionLevel            int64\n",
      "WorkLifeBalance             int64\n",
      "YearsAtCompany              int64\n",
      "YearsSinceLastPromotion     int64\n",
      "NumCompaniesWorked          int64\n",
      "dtype: object\n"
     ]
    }
   ],
   "source": [
    "# Define a list of numerical and categorical columns to be used as features (X variables)\n",
    "selected_columns = ['Education', 'Age', 'DistanceFromHome', 'JobSatisfaction', 'OverTime',\n",
    "                    'StockOptionLevel', 'WorkLifeBalance', 'YearsAtCompany',\n",
    "                    'YearsSinceLastPromotion', 'NumCompaniesWorked']\n",
    "# Create a DataFrame containing only the selected features\n",
    "X_df = attrition_df[selected_columns]\n",
    "\n",
    "# Show the data types for X_df\n",
    "print(X_df.dtypes)\n"
   ]
  },
  {
   "cell_type": "code",
   "execution_count": 6,
   "metadata": {},
   "outputs": [
    {
     "data": {
      "text/html": [
       "<div>\n",
       "<style scoped>\n",
       "    .dataframe tbody tr th:only-of-type {\n",
       "        vertical-align: middle;\n",
       "    }\n",
       "\n",
       "    .dataframe tbody tr th {\n",
       "        vertical-align: top;\n",
       "    }\n",
       "\n",
       "    .dataframe thead th {\n",
       "        text-align: right;\n",
       "    }\n",
       "</style>\n",
       "<table border=\"1\" class=\"dataframe\">\n",
       "  <thead>\n",
       "    <tr style=\"text-align: right;\">\n",
       "      <th></th>\n",
       "      <th>Education</th>\n",
       "      <th>Age</th>\n",
       "      <th>DistanceFromHome</th>\n",
       "      <th>JobSatisfaction</th>\n",
       "      <th>OverTime</th>\n",
       "      <th>StockOptionLevel</th>\n",
       "      <th>WorkLifeBalance</th>\n",
       "      <th>YearsAtCompany</th>\n",
       "      <th>YearsSinceLastPromotion</th>\n",
       "      <th>NumCompaniesWorked</th>\n",
       "    </tr>\n",
       "  </thead>\n",
       "  <tbody>\n",
       "    <tr>\n",
       "      <th>0</th>\n",
       "      <td>2</td>\n",
       "      <td>41</td>\n",
       "      <td>1</td>\n",
       "      <td>4</td>\n",
       "      <td>Yes</td>\n",
       "      <td>0</td>\n",
       "      <td>1</td>\n",
       "      <td>6</td>\n",
       "      <td>0</td>\n",
       "      <td>8</td>\n",
       "    </tr>\n",
       "    <tr>\n",
       "      <th>1</th>\n",
       "      <td>1</td>\n",
       "      <td>49</td>\n",
       "      <td>8</td>\n",
       "      <td>2</td>\n",
       "      <td>No</td>\n",
       "      <td>1</td>\n",
       "      <td>3</td>\n",
       "      <td>10</td>\n",
       "      <td>1</td>\n",
       "      <td>1</td>\n",
       "    </tr>\n",
       "    <tr>\n",
       "      <th>2</th>\n",
       "      <td>2</td>\n",
       "      <td>37</td>\n",
       "      <td>2</td>\n",
       "      <td>3</td>\n",
       "      <td>Yes</td>\n",
       "      <td>0</td>\n",
       "      <td>3</td>\n",
       "      <td>0</td>\n",
       "      <td>0</td>\n",
       "      <td>6</td>\n",
       "    </tr>\n",
       "    <tr>\n",
       "      <th>3</th>\n",
       "      <td>4</td>\n",
       "      <td>33</td>\n",
       "      <td>3</td>\n",
       "      <td>3</td>\n",
       "      <td>Yes</td>\n",
       "      <td>0</td>\n",
       "      <td>3</td>\n",
       "      <td>8</td>\n",
       "      <td>3</td>\n",
       "      <td>1</td>\n",
       "    </tr>\n",
       "    <tr>\n",
       "      <th>4</th>\n",
       "      <td>1</td>\n",
       "      <td>27</td>\n",
       "      <td>2</td>\n",
       "      <td>2</td>\n",
       "      <td>No</td>\n",
       "      <td>1</td>\n",
       "      <td>3</td>\n",
       "      <td>2</td>\n",
       "      <td>2</td>\n",
       "      <td>9</td>\n",
       "    </tr>\n",
       "  </tbody>\n",
       "</table>\n",
       "</div>"
      ],
      "text/plain": [
       "   Education  Age  DistanceFromHome  JobSatisfaction OverTime  \\\n",
       "0          2   41                 1                4      Yes   \n",
       "1          1   49                 8                2       No   \n",
       "2          2   37                 2                3      Yes   \n",
       "3          4   33                 3                3      Yes   \n",
       "4          1   27                 2                2       No   \n",
       "\n",
       "   StockOptionLevel  WorkLifeBalance  YearsAtCompany  YearsSinceLastPromotion  \\\n",
       "0                 0                1               6                        0   \n",
       "1                 1                3              10                        1   \n",
       "2                 0                3               0                        0   \n",
       "3                 0                3               8                        3   \n",
       "4                 1                3               2                        2   \n",
       "\n",
       "   NumCompaniesWorked  \n",
       "0                   8  \n",
       "1                   1  \n",
       "2                   6  \n",
       "3                   1  \n",
       "4                   9  "
      ]
     },
     "execution_count": 6,
     "metadata": {},
     "output_type": "execute_result"
    }
   ],
   "source": [
    "#Display a sample of the X data \n",
    "X_df.head()"
   ]
  },
  {
   "cell_type": "code",
   "execution_count": 7,
   "metadata": {
    "id": "KaJfdOGUMHMR"
   },
   "outputs": [],
   "source": [
    "# Split the data into training and testing sets\n",
    "from sklearn.model_selection import train_test_split"
   ]
  },
  {
   "cell_type": "code",
   "execution_count": 8,
   "metadata": {
    "colab": {
     "base_uri": "https://localhost:8080/"
    },
    "id": "NYubUJqiLCSp",
    "outputId": "701f3b90-f185-4832-bf2b-9ac17be4591f"
   },
   "outputs": [
    {
     "name": "stderr",
     "output_type": "stream",
     "text": [
      "C:\\Users\\marwa\\AppData\\Local\\Temp\\ipykernel_14792\\767550278.py:2: SettingWithCopyWarning: \n",
      "A value is trying to be set on a copy of a slice from a DataFrame.\n",
      "Try using .loc[row_indexer,col_indexer] = value instead\n",
      "\n",
      "See the caveats in the documentation: https://pandas.pydata.org/pandas-docs/stable/user_guide/indexing.html#returning-a-view-versus-a-copy\n",
      "  X_df['OverTime'] = X_df['OverTime'].map({'Yes': 1, 'No': 0})\n",
      "C:\\Users\\marwa\\AppData\\Local\\Temp\\ipykernel_14792\\767550278.py:5: SettingWithCopyWarning: \n",
      "A value is trying to be set on a copy of a slice from a DataFrame\n",
      "\n",
      "See the caveats in the documentation: https://pandas.pydata.org/pandas-docs/stable/user_guide/indexing.html#returning-a-view-versus-a-copy\n",
      "  X_df.fillna(X_df.median(), inplace=True)\n"
     ]
    }
   ],
   "source": [
    "# Convert categorical column 'OverTime' to numeric (Yes=1, No=0)\n",
    "X_df['OverTime'] = X_df['OverTime'].map({'Yes': 1, 'No': 0})\n",
    "\n",
    "# Check for missing values and fill them (if any)\n",
    "X_df.fillna(X_df.median(), inplace=True)"
   ]
  },
  {
   "cell_type": "code",
   "execution_count": 9,
   "metadata": {
    "colab": {
     "base_uri": "https://localhost:8080/",
     "height": 206
    },
    "id": "puOBP7gBhaCv",
    "outputId": "0dd3c44e-e468-43d1-8829-8cf18dac0ffc"
   },
   "outputs": [
    {
     "data": {
      "text/html": [
       "<div>\n",
       "<style scoped>\n",
       "    .dataframe tbody tr th:only-of-type {\n",
       "        vertical-align: middle;\n",
       "    }\n",
       "\n",
       "    .dataframe tbody tr th {\n",
       "        vertical-align: top;\n",
       "    }\n",
       "\n",
       "    .dataframe thead th {\n",
       "        text-align: right;\n",
       "    }\n",
       "</style>\n",
       "<table border=\"1\" class=\"dataframe\">\n",
       "  <thead>\n",
       "    <tr style=\"text-align: right;\">\n",
       "      <th></th>\n",
       "      <th>Education</th>\n",
       "      <th>Age</th>\n",
       "      <th>DistanceFromHome</th>\n",
       "      <th>JobSatisfaction</th>\n",
       "      <th>OverTime</th>\n",
       "      <th>StockOptionLevel</th>\n",
       "      <th>WorkLifeBalance</th>\n",
       "      <th>YearsAtCompany</th>\n",
       "      <th>YearsSinceLastPromotion</th>\n",
       "      <th>NumCompaniesWorked</th>\n",
       "    </tr>\n",
       "  </thead>\n",
       "  <tbody>\n",
       "    <tr>\n",
       "      <th>0</th>\n",
       "      <td>2</td>\n",
       "      <td>41</td>\n",
       "      <td>1</td>\n",
       "      <td>4</td>\n",
       "      <td>1</td>\n",
       "      <td>0</td>\n",
       "      <td>1</td>\n",
       "      <td>6</td>\n",
       "      <td>0</td>\n",
       "      <td>8</td>\n",
       "    </tr>\n",
       "    <tr>\n",
       "      <th>1</th>\n",
       "      <td>1</td>\n",
       "      <td>49</td>\n",
       "      <td>8</td>\n",
       "      <td>2</td>\n",
       "      <td>0</td>\n",
       "      <td>1</td>\n",
       "      <td>3</td>\n",
       "      <td>10</td>\n",
       "      <td>1</td>\n",
       "      <td>1</td>\n",
       "    </tr>\n",
       "    <tr>\n",
       "      <th>2</th>\n",
       "      <td>2</td>\n",
       "      <td>37</td>\n",
       "      <td>2</td>\n",
       "      <td>3</td>\n",
       "      <td>1</td>\n",
       "      <td>0</td>\n",
       "      <td>3</td>\n",
       "      <td>0</td>\n",
       "      <td>0</td>\n",
       "      <td>6</td>\n",
       "    </tr>\n",
       "    <tr>\n",
       "      <th>3</th>\n",
       "      <td>4</td>\n",
       "      <td>33</td>\n",
       "      <td>3</td>\n",
       "      <td>3</td>\n",
       "      <td>1</td>\n",
       "      <td>0</td>\n",
       "      <td>3</td>\n",
       "      <td>8</td>\n",
       "      <td>3</td>\n",
       "      <td>1</td>\n",
       "    </tr>\n",
       "    <tr>\n",
       "      <th>4</th>\n",
       "      <td>1</td>\n",
       "      <td>27</td>\n",
       "      <td>2</td>\n",
       "      <td>2</td>\n",
       "      <td>0</td>\n",
       "      <td>1</td>\n",
       "      <td>3</td>\n",
       "      <td>2</td>\n",
       "      <td>2</td>\n",
       "      <td>9</td>\n",
       "    </tr>\n",
       "  </tbody>\n",
       "</table>\n",
       "</div>"
      ],
      "text/plain": [
       "   Education  Age  DistanceFromHome  JobSatisfaction  OverTime  \\\n",
       "0          2   41                 1                4         1   \n",
       "1          1   49                 8                2         0   \n",
       "2          2   37                 2                3         1   \n",
       "3          4   33                 3                3         1   \n",
       "4          1   27                 2                2         0   \n",
       "\n",
       "   StockOptionLevel  WorkLifeBalance  YearsAtCompany  YearsSinceLastPromotion  \\\n",
       "0                 0                1               6                        0   \n",
       "1                 1                3              10                        1   \n",
       "2                 0                3               0                        0   \n",
       "3                 0                3               8                        3   \n",
       "4                 1                3               2                        2   \n",
       "\n",
       "   NumCompaniesWorked  \n",
       "0                   8  \n",
       "1                   1  \n",
       "2                   6  \n",
       "3                   1  \n",
       "4                   9  "
      ]
     },
     "execution_count": 9,
     "metadata": {},
     "output_type": "execute_result"
    }
   ],
   "source": [
    "# display X data after converting\n",
    "X_df.head()"
   ]
  },
  {
   "cell_type": "code",
   "execution_count": 10,
   "metadata": {
    "id": "Srf52UDihlH_"
   },
   "outputs": [],
   "source": [
    "# Split data into training and testing sets\n",
    "X_train, X_test, y_train, y_test = train_test_split(X_df, y_df, test_size=0.2, random_state=42)"
   ]
  },
  {
   "cell_type": "code",
   "execution_count": 11,
   "metadata": {
    "id": "EWA-aIA5Gc3T"
   },
   "outputs": [],
   "source": [
    "# Create a StandardScaler\n",
    "scaler=StandardScaler()\n",
    "\n",
    "# Fit the StandardScaler to the training data\n",
    "scaler.fit(X_train)\n",
    "\n",
    "# Fit the StandardScaler to the training data and transform it\n",
    "X_train_scaled = scaler.transform(X_train)\n",
    "X_test_scaled = scaler.transform(X_test)\n"
   ]
  },
  {
   "cell_type": "code",
   "execution_count": 12,
   "metadata": {
    "id": "-z0Mky8vQSz4"
   },
   "outputs": [],
   "source": [
    "from sklearn.preprocessing import OneHotEncoder\n",
    "\n",
    "# Initialize OneHotEncoder for the 'Department' column\n",
    "dept_encoder = OneHotEncoder(sparse_output=False)\n",
    "\n",
    "#  Fit the encoder to the 'Department' column of the training data\n",
    "dept_encoder.fit(y_train[['Department']])  # Fit only on the training data to avoid data leakage\n",
    "\n",
    "# Fit and transform the training data\n",
    "dept_train = dept_encoder.transform(y_train[['Department']])\n",
    "dept_test = dept_encoder.transform(y_test[['Department']])\n"
   ]
  },
  {
   "cell_type": "code",
   "execution_count": 13,
   "metadata": {
    "colab": {
     "base_uri": "https://localhost:8080/"
    },
    "id": "fxzHQCyfoG8m",
    "outputId": "80d336ca-a7bd-49b9-b311-6aaa7055a963"
   },
   "outputs": [
    {
     "name": "stdout",
     "output_type": "stream",
     "text": [
      "Encoded Department (Training):\n",
      "[[0. 1. 0.]\n",
      " [0. 1. 0.]\n",
      " [0. 0. 1.]\n",
      " [0. 1. 0.]\n",
      " [0. 1. 0.]]\n",
      "Encoded Department (Testing):\n",
      "[[0. 0. 1.]\n",
      " [0. 1. 0.]\n",
      " [1. 0. 0.]\n",
      " [0. 1. 0.]\n",
      " [0. 1. 0.]]\n"
     ]
    }
   ],
   "source": [
    "# Display the first 5 rows of the encoded training data\n",
    "print(\"Encoded Department (Training):\")\n",
    "print(dept_train[:5])\n",
    "# Display the first 5 rows of the encoded testing data\n",
    "print(\"Encoded Department (Testing):\")\n",
    "print(dept_test[:5])"
   ]
  },
  {
   "cell_type": "code",
   "execution_count": 14,
   "metadata": {
    "id": "-G4DSpvFRrk4"
   },
   "outputs": [],
   "source": [
    "# Initialize OneHotEncoder for the 'Attrition' column\n",
    "attrition_encoder = OneHotEncoder(sparse_output=False)  # Use sparse_output=False for dense arrays\n",
    "\n",
    "# Fit the encoder to the 'Attrition' column of the training data\n",
    "attrition_encoder.fit(y_train[['Attrition']])  # Fit only on the training data to avoid data leakage\n",
    "\n",
    "# Transform the 'Attrition' column for both training and testing data\n",
    "attrition_train = attrition_encoder.transform(y_train[['Attrition']])  # Transform training data\n",
    "attrition_test = attrition_encoder.transform(y_test[['Attrition']])    # Transform testing data\n"
   ]
  },
  {
   "cell_type": "code",
   "execution_count": 15,
   "metadata": {
    "colab": {
     "base_uri": "https://localhost:8080/"
    },
    "id": "H0z4yBFToFXr",
    "outputId": "0dbb98ba-78a0-40b1-9cc6-64710c03222f"
   },
   "outputs": [
    {
     "name": "stdout",
     "output_type": "stream",
     "text": [
      "Encoded Attrition (Training):\n",
      "[[1. 0.]\n",
      " [1. 0.]\n",
      " [1. 0.]\n",
      " [1. 0.]\n",
      " [1. 0.]]\n",
      "Encoded Attrition (Testing):\n",
      "[[1. 0.]\n",
      " [1. 0.]\n",
      " [0. 1.]\n",
      " [1. 0.]\n",
      " [1. 0.]]\n"
     ]
    }
   ],
   "source": [
    "# Display the first 5 rows of the encoded training data\n",
    "print(\"Encoded Attrition (Training):\")\n",
    "print(attrition_train[:5])\n",
    "# Display the first 5 rows of the encoded testing data\n",
    "print(\"Encoded Attrition (Testing):\")\n",
    "print(attrition_test[:5])"
   ]
  },
  {
   "cell_type": "markdown",
   "metadata": {
    "id": "ykNmu_WWGc3T"
   },
   "source": [
    "## Part 2: Create, Compile, and Train the Model"
   ]
  },
  {
   "cell_type": "code",
   "execution_count": 16,
   "metadata": {
    "colab": {
     "base_uri": "https://localhost:8080/"
    },
    "id": "WUptZqmSGc3T",
    "outputId": "05c4ddc2-9c95-4f9b-ba5e-575d042cae27"
   },
   "outputs": [
    {
     "name": "stdout",
     "output_type": "stream",
     "text": [
      "Number of columns in X_train_scaled: 10\n"
     ]
    }
   ],
   "source": [
    "# Find the number of columns in the X training data\n",
    "input_dim = X_train_scaled.shape[1]\n",
    "print(f\"Number of columns in X_train_scaled: {input_dim}\")\n",
    "\n",
    "# Create the input layer\n",
    "from tensorflow.keras import Input\n",
    "\n",
    "# Create the input layer\n",
    "input_layer = Input(shape=(input_dim,), name=\"input_layer\")\n",
    "\n",
    "# Create two shared layers\n",
    "shared_layer_1 = layers.Dense(64, activation=\"relu\", name=\"shared_layer_1\")(input_layer)\n",
    "shared_layer_2 = layers.Dense(128, activation=\"relu\", name=\"shared_layer_2\")(shared_layer_1)"
   ]
  },
  {
   "cell_type": "code",
   "execution_count": 17,
   "metadata": {
    "colab": {
     "base_uri": "https://localhost:8080/",
     "height": 203
    },
    "id": "JukjTm2yTEqd",
    "outputId": "34689828-c85c-401a-efd7-c4fdaaeaffaa"
   },
   "outputs": [],
   "source": [
    "# # Create a branch for Department\n",
    "# Create the hidden layer\n",
    "department_branch = layers.Dense(32, activation=\"relu\", name=\"department_hidden_layer\")(shared_layer_2)\n",
    "# Create the output layer\n",
    "department_output = layers.Dense(3, activation=\"softmax\", name=\"department_output\")(department_branch)"
   ]
  },
  {
   "cell_type": "code",
   "execution_count": 18,
   "metadata": {
    "id": "9OqhUiOJUBkR"
   },
   "outputs": [],
   "source": [
    "# # Create a branch for Attrition\n",
    "# Create the hidden layer\n",
    "attrition_branch = layers.Dense(32, activation=\"relu\", name=\"attrition_hidden_layer\")(shared_layer_2)\n",
    "# Create the output layer\n",
    "attrition_output = layers.Dense(attrition_train.shape[1], activation=\"softmax\", name=\"attrition_output\")(attrition_branch)"
   ]
  },
  {
   "cell_type": "code",
   "execution_count": 19,
   "metadata": {
    "colab": {
     "base_uri": "https://localhost:8080/",
     "height": 361
    },
    "id": "twmuejdxGc3T",
    "outputId": "dd9ce242-6a66-4709-ba13-4b13551c22e0"
   },
   "outputs": [
    {
     "data": {
      "text/html": [
       "<pre style=\"white-space:pre;overflow-x:auto;line-height:normal;font-family:Menlo,'DejaVu Sans Mono',consolas,'Courier New',monospace\"><span style=\"font-weight: bold\">Model: \"multi_output_model\"</span>\n",
       "</pre>\n"
      ],
      "text/plain": [
       "\u001b[1mModel: \"multi_output_model\"\u001b[0m\n"
      ]
     },
     "metadata": {},
     "output_type": "display_data"
    },
    {
     "data": {
      "text/html": [
       "<pre style=\"white-space:pre;overflow-x:auto;line-height:normal;font-family:Menlo,'DejaVu Sans Mono',consolas,'Courier New',monospace\">┏━━━━━━━━━━━━━━━━━━━━━┳━━━━━━━━━━━━━━━━━━━┳━━━━━━━━━━━━┳━━━━━━━━━━━━━━━━━━━┓\n",
       "┃<span style=\"font-weight: bold\"> Layer (type)        </span>┃<span style=\"font-weight: bold\"> Output Shape      </span>┃<span style=\"font-weight: bold\">    Param # </span>┃<span style=\"font-weight: bold\"> Connected to      </span>┃\n",
       "┡━━━━━━━━━━━━━━━━━━━━━╇━━━━━━━━━━━━━━━━━━━╇━━━━━━━━━━━━╇━━━━━━━━━━━━━━━━━━━┩\n",
       "│ input_layer         │ (<span style=\"color: #00d7ff; text-decoration-color: #00d7ff\">None</span>, <span style=\"color: #00af00; text-decoration-color: #00af00\">10</span>)        │          <span style=\"color: #00af00; text-decoration-color: #00af00\">0</span> │ -                 │\n",
       "│ (<span style=\"color: #0087ff; text-decoration-color: #0087ff\">InputLayer</span>)        │                   │            │                   │\n",
       "├─────────────────────┼───────────────────┼────────────┼───────────────────┤\n",
       "│ shared_layer_1      │ (<span style=\"color: #00d7ff; text-decoration-color: #00d7ff\">None</span>, <span style=\"color: #00af00; text-decoration-color: #00af00\">64</span>)        │        <span style=\"color: #00af00; text-decoration-color: #00af00\">704</span> │ input_layer[<span style=\"color: #00af00; text-decoration-color: #00af00\">0</span>][<span style=\"color: #00af00; text-decoration-color: #00af00\">0</span>] │\n",
       "│ (<span style=\"color: #0087ff; text-decoration-color: #0087ff\">Dense</span>)             │                   │            │                   │\n",
       "├─────────────────────┼───────────────────┼────────────┼───────────────────┤\n",
       "│ shared_layer_2      │ (<span style=\"color: #00d7ff; text-decoration-color: #00d7ff\">None</span>, <span style=\"color: #00af00; text-decoration-color: #00af00\">128</span>)       │      <span style=\"color: #00af00; text-decoration-color: #00af00\">8,320</span> │ shared_layer_1[<span style=\"color: #00af00; text-decoration-color: #00af00\">0</span>… │\n",
       "│ (<span style=\"color: #0087ff; text-decoration-color: #0087ff\">Dense</span>)             │                   │            │                   │\n",
       "├─────────────────────┼───────────────────┼────────────┼───────────────────┤\n",
       "│ department_hidden_… │ (<span style=\"color: #00d7ff; text-decoration-color: #00d7ff\">None</span>, <span style=\"color: #00af00; text-decoration-color: #00af00\">32</span>)        │      <span style=\"color: #00af00; text-decoration-color: #00af00\">4,128</span> │ shared_layer_2[<span style=\"color: #00af00; text-decoration-color: #00af00\">0</span>… │\n",
       "│ (<span style=\"color: #0087ff; text-decoration-color: #0087ff\">Dense</span>)             │                   │            │                   │\n",
       "├─────────────────────┼───────────────────┼────────────┼───────────────────┤\n",
       "│ attrition_hidden_l… │ (<span style=\"color: #00d7ff; text-decoration-color: #00d7ff\">None</span>, <span style=\"color: #00af00; text-decoration-color: #00af00\">32</span>)        │      <span style=\"color: #00af00; text-decoration-color: #00af00\">4,128</span> │ shared_layer_2[<span style=\"color: #00af00; text-decoration-color: #00af00\">0</span>… │\n",
       "│ (<span style=\"color: #0087ff; text-decoration-color: #0087ff\">Dense</span>)             │                   │            │                   │\n",
       "├─────────────────────┼───────────────────┼────────────┼───────────────────┤\n",
       "│ department_output   │ (<span style=\"color: #00d7ff; text-decoration-color: #00d7ff\">None</span>, <span style=\"color: #00af00; text-decoration-color: #00af00\">3</span>)         │         <span style=\"color: #00af00; text-decoration-color: #00af00\">99</span> │ department_hidde… │\n",
       "│ (<span style=\"color: #0087ff; text-decoration-color: #0087ff\">Dense</span>)             │                   │            │                   │\n",
       "├─────────────────────┼───────────────────┼────────────┼───────────────────┤\n",
       "│ attrition_output    │ (<span style=\"color: #00d7ff; text-decoration-color: #00d7ff\">None</span>, <span style=\"color: #00af00; text-decoration-color: #00af00\">2</span>)         │         <span style=\"color: #00af00; text-decoration-color: #00af00\">66</span> │ attrition_hidden… │\n",
       "│ (<span style=\"color: #0087ff; text-decoration-color: #0087ff\">Dense</span>)             │                   │            │                   │\n",
       "└─────────────────────┴───────────────────┴────────────┴───────────────────┘\n",
       "</pre>\n"
      ],
      "text/plain": [
       "┏━━━━━━━━━━━━━━━━━━━━━┳━━━━━━━━━━━━━━━━━━━┳━━━━━━━━━━━━┳━━━━━━━━━━━━━━━━━━━┓\n",
       "┃\u001b[1m \u001b[0m\u001b[1mLayer (type)       \u001b[0m\u001b[1m \u001b[0m┃\u001b[1m \u001b[0m\u001b[1mOutput Shape     \u001b[0m\u001b[1m \u001b[0m┃\u001b[1m \u001b[0m\u001b[1m   Param #\u001b[0m\u001b[1m \u001b[0m┃\u001b[1m \u001b[0m\u001b[1mConnected to     \u001b[0m\u001b[1m \u001b[0m┃\n",
       "┡━━━━━━━━━━━━━━━━━━━━━╇━━━━━━━━━━━━━━━━━━━╇━━━━━━━━━━━━╇━━━━━━━━━━━━━━━━━━━┩\n",
       "│ input_layer         │ (\u001b[38;5;45mNone\u001b[0m, \u001b[38;5;34m10\u001b[0m)        │          \u001b[38;5;34m0\u001b[0m │ -                 │\n",
       "│ (\u001b[38;5;33mInputLayer\u001b[0m)        │                   │            │                   │\n",
       "├─────────────────────┼───────────────────┼────────────┼───────────────────┤\n",
       "│ shared_layer_1      │ (\u001b[38;5;45mNone\u001b[0m, \u001b[38;5;34m64\u001b[0m)        │        \u001b[38;5;34m704\u001b[0m │ input_layer[\u001b[38;5;34m0\u001b[0m][\u001b[38;5;34m0\u001b[0m] │\n",
       "│ (\u001b[38;5;33mDense\u001b[0m)             │                   │            │                   │\n",
       "├─────────────────────┼───────────────────┼────────────┼───────────────────┤\n",
       "│ shared_layer_2      │ (\u001b[38;5;45mNone\u001b[0m, \u001b[38;5;34m128\u001b[0m)       │      \u001b[38;5;34m8,320\u001b[0m │ shared_layer_1[\u001b[38;5;34m0\u001b[0m… │\n",
       "│ (\u001b[38;5;33mDense\u001b[0m)             │                   │            │                   │\n",
       "├─────────────────────┼───────────────────┼────────────┼───────────────────┤\n",
       "│ department_hidden_… │ (\u001b[38;5;45mNone\u001b[0m, \u001b[38;5;34m32\u001b[0m)        │      \u001b[38;5;34m4,128\u001b[0m │ shared_layer_2[\u001b[38;5;34m0\u001b[0m… │\n",
       "│ (\u001b[38;5;33mDense\u001b[0m)             │                   │            │                   │\n",
       "├─────────────────────┼───────────────────┼────────────┼───────────────────┤\n",
       "│ attrition_hidden_l… │ (\u001b[38;5;45mNone\u001b[0m, \u001b[38;5;34m32\u001b[0m)        │      \u001b[38;5;34m4,128\u001b[0m │ shared_layer_2[\u001b[38;5;34m0\u001b[0m… │\n",
       "│ (\u001b[38;5;33mDense\u001b[0m)             │                   │            │                   │\n",
       "├─────────────────────┼───────────────────┼────────────┼───────────────────┤\n",
       "│ department_output   │ (\u001b[38;5;45mNone\u001b[0m, \u001b[38;5;34m3\u001b[0m)         │         \u001b[38;5;34m99\u001b[0m │ department_hidde… │\n",
       "│ (\u001b[38;5;33mDense\u001b[0m)             │                   │            │                   │\n",
       "├─────────────────────┼───────────────────┼────────────┼───────────────────┤\n",
       "│ attrition_output    │ (\u001b[38;5;45mNone\u001b[0m, \u001b[38;5;34m2\u001b[0m)         │         \u001b[38;5;34m66\u001b[0m │ attrition_hidden… │\n",
       "│ (\u001b[38;5;33mDense\u001b[0m)             │                   │            │                   │\n",
       "└─────────────────────┴───────────────────┴────────────┴───────────────────┘\n"
      ]
     },
     "metadata": {},
     "output_type": "display_data"
    },
    {
     "data": {
      "text/html": [
       "<pre style=\"white-space:pre;overflow-x:auto;line-height:normal;font-family:Menlo,'DejaVu Sans Mono',consolas,'Courier New',monospace\"><span style=\"font-weight: bold\"> Total params: </span><span style=\"color: #00af00; text-decoration-color: #00af00\">17,445</span> (68.14 KB)\n",
       "</pre>\n"
      ],
      "text/plain": [
       "\u001b[1m Total params: \u001b[0m\u001b[38;5;34m17,445\u001b[0m (68.14 KB)\n"
      ]
     },
     "metadata": {},
     "output_type": "display_data"
    },
    {
     "data": {
      "text/html": [
       "<pre style=\"white-space:pre;overflow-x:auto;line-height:normal;font-family:Menlo,'DejaVu Sans Mono',consolas,'Courier New',monospace\"><span style=\"font-weight: bold\"> Trainable params: </span><span style=\"color: #00af00; text-decoration-color: #00af00\">17,445</span> (68.14 KB)\n",
       "</pre>\n"
      ],
      "text/plain": [
       "\u001b[1m Trainable params: \u001b[0m\u001b[38;5;34m17,445\u001b[0m (68.14 KB)\n"
      ]
     },
     "metadata": {},
     "output_type": "display_data"
    },
    {
     "data": {
      "text/html": [
       "<pre style=\"white-space:pre;overflow-x:auto;line-height:normal;font-family:Menlo,'DejaVu Sans Mono',consolas,'Courier New',monospace\"><span style=\"font-weight: bold\"> Non-trainable params: </span><span style=\"color: #00af00; text-decoration-color: #00af00\">0</span> (0.00 B)\n",
       "</pre>\n"
      ],
      "text/plain": [
       "\u001b[1m Non-trainable params: \u001b[0m\u001b[38;5;34m0\u001b[0m (0.00 B)\n"
      ]
     },
     "metadata": {},
     "output_type": "display_data"
    }
   ],
   "source": [
    "# Define the model\n",
    "model = Model(inputs=input_layer, outputs=[department_output, attrition_output], name=\"multi_output_model\")\n",
    "\n",
    "# Compile the model\n",
    "model.compile(\n",
    "    optimizer=\"adam\",\n",
    "    loss={\n",
    "        \"department_output\": \"categorical_crossentropy\",  # Loss for Department\n",
    "        \"attrition_output\": \"binary_crossentropy\",   #Attrition column (binary classification).\n",
    "    },\n",
    "    metrics={\n",
    "        \"department_output\": \"accuracy\",  # Metric for Department\n",
    "        \"attrition_output\": \"accuracy\",   # Metric for Attrition\n",
    "    },\n",
    ")\n",
    "# Print the model summary\n",
    "model.summary()"
   ]
  },
  {
   "cell_type": "code",
   "execution_count": 20,
   "metadata": {
    "colab": {
     "base_uri": "https://localhost:8080/"
    },
    "id": "c8oGy0dpGc3U",
    "outputId": "f48a5292-426f-4715-ea6e-381a8e9d5542"
   },
   "outputs": [
    {
     "name": "stdout",
     "output_type": "stream",
     "text": [
      "Epoch 1/100\n",
      "\u001b[1m37/37\u001b[0m \u001b[32m━━━━━━━━━━━━━━━━━━━━\u001b[0m\u001b[37m\u001b[0m \u001b[1m6s\u001b[0m 28ms/step - attrition_output_accuracy: 0.7669 - attrition_output_loss: 0.6003 - department_output_accuracy: 0.5772 - department_output_loss: 0.9282 - loss: 1.5285 - val_attrition_output_accuracy: 0.8673 - val_attrition_output_loss: 0.3794 - val_department_output_accuracy: 0.6667 - val_department_output_loss: 0.7833 - val_loss: 1.1979\n",
      "Epoch 2/100\n",
      "\u001b[1m37/37\u001b[0m \u001b[32m━━━━━━━━━━━━━━━━━━━━\u001b[0m\u001b[37m\u001b[0m \u001b[1m1s\u001b[0m 9ms/step - attrition_output_accuracy: 0.8442 - attrition_output_loss: 0.4281 - department_output_accuracy: 0.6789 - department_output_loss: 0.7435 - loss: 1.1716 - val_attrition_output_accuracy: 0.8673 - val_attrition_output_loss: 0.3714 - val_department_output_accuracy: 0.6633 - val_department_output_loss: 0.7914 - val_loss: 1.1946\n",
      "Epoch 3/100\n",
      "\u001b[1m37/37\u001b[0m \u001b[32m━━━━━━━━━━━━━━━━━━━━\u001b[0m\u001b[37m\u001b[0m \u001b[1m0s\u001b[0m 7ms/step - attrition_output_accuracy: 0.8194 - attrition_output_loss: 0.4175 - department_output_accuracy: 0.6410 - department_output_loss: 0.7798 - loss: 1.1974 - val_attrition_output_accuracy: 0.8673 - val_attrition_output_loss: 0.3597 - val_department_output_accuracy: 0.6667 - val_department_output_loss: 0.7822 - val_loss: 1.1793\n",
      "Epoch 4/100\n",
      "\u001b[1m37/37\u001b[0m \u001b[32m━━━━━━━━━━━━━━━━━━━━\u001b[0m\u001b[37m\u001b[0m \u001b[1m0s\u001b[0m 10ms/step - attrition_output_accuracy: 0.8515 - attrition_output_loss: 0.3739 - department_output_accuracy: 0.6492 - department_output_loss: 0.7703 - loss: 1.1443 - val_attrition_output_accuracy: 0.8741 - val_attrition_output_loss: 0.3610 - val_department_output_accuracy: 0.6667 - val_department_output_loss: 0.7882 - val_loss: 1.1837\n",
      "Epoch 5/100\n",
      "\u001b[1m37/37\u001b[0m \u001b[32m━━━━━━━━━━━━━━━━━━━━\u001b[0m\u001b[37m\u001b[0m \u001b[1m0s\u001b[0m 7ms/step - attrition_output_accuracy: 0.8654 - attrition_output_loss: 0.3401 - department_output_accuracy: 0.6398 - department_output_loss: 0.7766 - loss: 1.1166 - val_attrition_output_accuracy: 0.8435 - val_attrition_output_loss: 0.3763 - val_department_output_accuracy: 0.6599 - val_department_output_loss: 0.7901 - val_loss: 1.1988\n",
      "Epoch 6/100\n",
      "\u001b[1m37/37\u001b[0m \u001b[32m━━━━━━━━━━━━━━━━━━━━\u001b[0m\u001b[37m\u001b[0m \u001b[1m0s\u001b[0m 9ms/step - attrition_output_accuracy: 0.8715 - attrition_output_loss: 0.3753 - department_output_accuracy: 0.6862 - department_output_loss: 0.7002 - loss: 1.0755 - val_attrition_output_accuracy: 0.8503 - val_attrition_output_loss: 0.3605 - val_department_output_accuracy: 0.6429 - val_department_output_loss: 0.7939 - val_loss: 1.1852\n",
      "Epoch 7/100\n",
      "\u001b[1m37/37\u001b[0m \u001b[32m━━━━━━━━━━━━━━━━━━━━\u001b[0m\u001b[37m\u001b[0m \u001b[1m0s\u001b[0m 7ms/step - attrition_output_accuracy: 0.8608 - attrition_output_loss: 0.3476 - department_output_accuracy: 0.6799 - department_output_loss: 0.6948 - loss: 1.0424 - val_attrition_output_accuracy: 0.8639 - val_attrition_output_loss: 0.3568 - val_department_output_accuracy: 0.6497 - val_department_output_loss: 0.7936 - val_loss: 1.1849\n",
      "Epoch 8/100\n",
      "\u001b[1m37/37\u001b[0m \u001b[32m━━━━━━━━━━━━━━━━━━━━\u001b[0m\u001b[37m\u001b[0m \u001b[1m0s\u001b[0m 7ms/step - attrition_output_accuracy: 0.8517 - attrition_output_loss: 0.3648 - department_output_accuracy: 0.6734 - department_output_loss: 0.7050 - loss: 1.0699 - val_attrition_output_accuracy: 0.8639 - val_attrition_output_loss: 0.3584 - val_department_output_accuracy: 0.6531 - val_department_output_loss: 0.7961 - val_loss: 1.1878\n",
      "Epoch 9/100\n",
      "\u001b[1m37/37\u001b[0m \u001b[32m━━━━━━━━━━━━━━━━━━━━\u001b[0m\u001b[37m\u001b[0m \u001b[1m0s\u001b[0m 8ms/step - attrition_output_accuracy: 0.8757 - attrition_output_loss: 0.3281 - department_output_accuracy: 0.6808 - department_output_loss: 0.6851 - loss: 1.0134 - val_attrition_output_accuracy: 0.8605 - val_attrition_output_loss: 0.3536 - val_department_output_accuracy: 0.6293 - val_department_output_loss: 0.8118 - val_loss: 1.2046\n",
      "Epoch 10/100\n",
      "\u001b[1m37/37\u001b[0m \u001b[32m━━━━━━━━━━━━━━━━━━━━\u001b[0m\u001b[37m\u001b[0m \u001b[1m0s\u001b[0m 7ms/step - attrition_output_accuracy: 0.8731 - attrition_output_loss: 0.3383 - department_output_accuracy: 0.6834 - department_output_loss: 0.6987 - loss: 1.0370 - val_attrition_output_accuracy: 0.8571 - val_attrition_output_loss: 0.3626 - val_department_output_accuracy: 0.6565 - val_department_output_loss: 0.8063 - val_loss: 1.2024\n",
      "Epoch 11/100\n",
      "\u001b[1m37/37\u001b[0m \u001b[32m━━━━━━━━━━━━━━━━━━━━\u001b[0m\u001b[37m\u001b[0m \u001b[1m0s\u001b[0m 7ms/step - attrition_output_accuracy: 0.8879 - attrition_output_loss: 0.2917 - department_output_accuracy: 0.7029 - department_output_loss: 0.6698 - loss: 0.9615 - val_attrition_output_accuracy: 0.8605 - val_attrition_output_loss: 0.3767 - val_department_output_accuracy: 0.6259 - val_department_output_loss: 0.8173 - val_loss: 1.2251\n",
      "Epoch 12/100\n",
      "\u001b[1m37/37\u001b[0m \u001b[32m━━━━━━━━━━━━━━━━━━━━\u001b[0m\u001b[37m\u001b[0m \u001b[1m0s\u001b[0m 10ms/step - attrition_output_accuracy: 0.8899 - attrition_output_loss: 0.3040 - department_output_accuracy: 0.7170 - department_output_loss: 0.6581 - loss: 0.9621 - val_attrition_output_accuracy: 0.8639 - val_attrition_output_loss: 0.3679 - val_department_output_accuracy: 0.6293 - val_department_output_loss: 0.8162 - val_loss: 1.2053\n",
      "Epoch 13/100\n",
      "\u001b[1m37/37\u001b[0m \u001b[32m━━━━━━━━━━━━━━━━━━━━\u001b[0m\u001b[37m\u001b[0m \u001b[1m0s\u001b[0m 7ms/step - attrition_output_accuracy: 0.8714 - attrition_output_loss: 0.3266 - department_output_accuracy: 0.7065 - department_output_loss: 0.6785 - loss: 1.0051 - val_attrition_output_accuracy: 0.8605 - val_attrition_output_loss: 0.3732 - val_department_output_accuracy: 0.6259 - val_department_output_loss: 0.8208 - val_loss: 1.2366\n",
      "Epoch 14/100\n",
      "\u001b[1m37/37\u001b[0m \u001b[32m━━━━━━━━━━━━━━━━━━━━\u001b[0m\u001b[37m\u001b[0m \u001b[1m1s\u001b[0m 14ms/step - attrition_output_accuracy: 0.8733 - attrition_output_loss: 0.3037 - department_output_accuracy: 0.7255 - department_output_loss: 0.6488 - loss: 0.9525 - val_attrition_output_accuracy: 0.8707 - val_attrition_output_loss: 0.3680 - val_department_output_accuracy: 0.6395 - val_department_output_loss: 0.8252 - val_loss: 1.2248\n",
      "Epoch 15/100\n",
      "\u001b[1m37/37\u001b[0m \u001b[32m━━━━━━━━━━━━━━━━━━━━\u001b[0m\u001b[37m\u001b[0m \u001b[1m0s\u001b[0m 7ms/step - attrition_output_accuracy: 0.8671 - attrition_output_loss: 0.3078 - department_output_accuracy: 0.7246 - department_output_loss: 0.6618 - loss: 0.9695 - val_attrition_output_accuracy: 0.8639 - val_attrition_output_loss: 0.3868 - val_department_output_accuracy: 0.5442 - val_department_output_loss: 0.8650 - val_loss: 1.2696\n",
      "Epoch 16/100\n",
      "\u001b[1m37/37\u001b[0m \u001b[32m━━━━━━━━━━━━━━━━━━━━\u001b[0m\u001b[37m\u001b[0m \u001b[1m0s\u001b[0m 7ms/step - attrition_output_accuracy: 0.8848 - attrition_output_loss: 0.2852 - department_output_accuracy: 0.7267 - department_output_loss: 0.6308 - loss: 0.9159 - val_attrition_output_accuracy: 0.8673 - val_attrition_output_loss: 0.3702 - val_department_output_accuracy: 0.6190 - val_department_output_loss: 0.8430 - val_loss: 1.2434\n",
      "Epoch 17/100\n",
      "\u001b[1m37/37\u001b[0m \u001b[32m━━━━━━━━━━━━━━━━━━━━\u001b[0m\u001b[37m\u001b[0m \u001b[1m0s\u001b[0m 7ms/step - attrition_output_accuracy: 0.8736 - attrition_output_loss: 0.3019 - department_output_accuracy: 0.7392 - department_output_loss: 0.6372 - loss: 0.9391 - val_attrition_output_accuracy: 0.8673 - val_attrition_output_loss: 0.3665 - val_department_output_accuracy: 0.6395 - val_department_output_loss: 0.8473 - val_loss: 1.2540\n",
      "Epoch 18/100\n",
      "\u001b[1m37/37\u001b[0m \u001b[32m━━━━━━━━━━━━━━━━━━━━\u001b[0m\u001b[37m\u001b[0m \u001b[1m0s\u001b[0m 8ms/step - attrition_output_accuracy: 0.8974 - attrition_output_loss: 0.2591 - department_output_accuracy: 0.7564 - department_output_loss: 0.5875 - loss: 0.8466 - val_attrition_output_accuracy: 0.8605 - val_attrition_output_loss: 0.3807 - val_department_output_accuracy: 0.5884 - val_department_output_loss: 0.8534 - val_loss: 1.2701\n",
      "Epoch 19/100\n",
      "\u001b[1m37/37\u001b[0m \u001b[32m━━━━━━━━━━━━━━━━━━━━\u001b[0m\u001b[37m\u001b[0m \u001b[1m0s\u001b[0m 8ms/step - attrition_output_accuracy: 0.8901 - attrition_output_loss: 0.2632 - department_output_accuracy: 0.7468 - department_output_loss: 0.5945 - loss: 0.8576 - val_attrition_output_accuracy: 0.8401 - val_attrition_output_loss: 0.4049 - val_department_output_accuracy: 0.5748 - val_department_output_loss: 0.8685 - val_loss: 1.2942\n",
      "Epoch 20/100\n",
      "\u001b[1m37/37\u001b[0m \u001b[32m━━━━━━━━━━━━━━━━━━━━\u001b[0m\u001b[37m\u001b[0m \u001b[1m1s\u001b[0m 11ms/step - attrition_output_accuracy: 0.8995 - attrition_output_loss: 0.2655 - department_output_accuracy: 0.7855 - department_output_loss: 0.5513 - loss: 0.8169 - val_attrition_output_accuracy: 0.8571 - val_attrition_output_loss: 0.4016 - val_department_output_accuracy: 0.6259 - val_department_output_loss: 0.8579 - val_loss: 1.2977\n",
      "Epoch 21/100\n",
      "\u001b[1m37/37\u001b[0m \u001b[32m━━━━━━━━━━━━━━━━━━━━\u001b[0m\u001b[37m\u001b[0m \u001b[1m0s\u001b[0m 7ms/step - attrition_output_accuracy: 0.8925 - attrition_output_loss: 0.2576 - department_output_accuracy: 0.7642 - department_output_loss: 0.5468 - loss: 0.8044 - val_attrition_output_accuracy: 0.8605 - val_attrition_output_loss: 0.3927 - val_department_output_accuracy: 0.6259 - val_department_output_loss: 0.8633 - val_loss: 1.2799\n",
      "Epoch 22/100\n",
      "\u001b[1m37/37\u001b[0m \u001b[32m━━━━━━━━━━━━━━━━━━━━\u001b[0m\u001b[37m\u001b[0m \u001b[1m0s\u001b[0m 7ms/step - attrition_output_accuracy: 0.9108 - attrition_output_loss: 0.2320 - department_output_accuracy: 0.7676 - department_output_loss: 0.5323 - loss: 0.7643 - val_attrition_output_accuracy: 0.8605 - val_attrition_output_loss: 0.3909 - val_department_output_accuracy: 0.5952 - val_department_output_loss: 0.8968 - val_loss: 1.3201\n",
      "Epoch 23/100\n",
      "\u001b[1m37/37\u001b[0m \u001b[32m━━━━━━━━━━━━━━━━━━━━\u001b[0m\u001b[37m\u001b[0m \u001b[1m0s\u001b[0m 7ms/step - attrition_output_accuracy: 0.9068 - attrition_output_loss: 0.2339 - department_output_accuracy: 0.7697 - department_output_loss: 0.5330 - loss: 0.7668 - val_attrition_output_accuracy: 0.8503 - val_attrition_output_loss: 0.4134 - val_department_output_accuracy: 0.5986 - val_department_output_loss: 0.8955 - val_loss: 1.3291\n",
      "Epoch 24/100\n",
      "\u001b[1m37/37\u001b[0m \u001b[32m━━━━━━━━━━━━━━━━━━━━\u001b[0m\u001b[37m\u001b[0m \u001b[1m0s\u001b[0m 7ms/step - attrition_output_accuracy: 0.8987 - attrition_output_loss: 0.2473 - department_output_accuracy: 0.7737 - department_output_loss: 0.5414 - loss: 0.7886 - val_attrition_output_accuracy: 0.8571 - val_attrition_output_loss: 0.4077 - val_department_output_accuracy: 0.5986 - val_department_output_loss: 0.9016 - val_loss: 1.3372\n",
      "Epoch 25/100\n",
      "\u001b[1m37/37\u001b[0m \u001b[32m━━━━━━━━━━━━━━━━━━━━\u001b[0m\u001b[37m\u001b[0m \u001b[1m0s\u001b[0m 9ms/step - attrition_output_accuracy: 0.9071 - attrition_output_loss: 0.2418 - department_output_accuracy: 0.7855 - department_output_loss: 0.4997 - loss: 0.7414 - val_attrition_output_accuracy: 0.8503 - val_attrition_output_loss: 0.4090 - val_department_output_accuracy: 0.5986 - val_department_output_loss: 0.8983 - val_loss: 1.3519\n",
      "Epoch 26/100\n",
      "\u001b[1m37/37\u001b[0m \u001b[32m━━━━━━━━━━━━━━━━━━━━\u001b[0m\u001b[37m\u001b[0m \u001b[1m0s\u001b[0m 7ms/step - attrition_output_accuracy: 0.9124 - attrition_output_loss: 0.2195 - department_output_accuracy: 0.8280 - department_output_loss: 0.4860 - loss: 0.7056 - val_attrition_output_accuracy: 0.8639 - val_attrition_output_loss: 0.4109 - val_department_output_accuracy: 0.5952 - val_department_output_loss: 0.9302 - val_loss: 1.3818\n",
      "Epoch 27/100\n",
      "\u001b[1m37/37\u001b[0m \u001b[32m━━━━━━━━━━━━━━━━━━━━\u001b[0m\u001b[37m\u001b[0m \u001b[1m0s\u001b[0m 7ms/step - attrition_output_accuracy: 0.8968 - attrition_output_loss: 0.2348 - department_output_accuracy: 0.8061 - department_output_loss: 0.4794 - loss: 0.7141 - val_attrition_output_accuracy: 0.8503 - val_attrition_output_loss: 0.4184 - val_department_output_accuracy: 0.5782 - val_department_output_loss: 0.9383 - val_loss: 1.3856\n",
      "Epoch 28/100\n",
      "\u001b[1m37/37\u001b[0m \u001b[32m━━━━━━━━━━━━━━━━━━━━\u001b[0m\u001b[37m\u001b[0m \u001b[1m0s\u001b[0m 7ms/step - attrition_output_accuracy: 0.9164 - attrition_output_loss: 0.2127 - department_output_accuracy: 0.8202 - department_output_loss: 0.4628 - loss: 0.6756 - val_attrition_output_accuracy: 0.8639 - val_attrition_output_loss: 0.4303 - val_department_output_accuracy: 0.5918 - val_department_output_loss: 0.9338 - val_loss: 1.4036\n",
      "Epoch 29/100\n",
      "\u001b[1m37/37\u001b[0m \u001b[32m━━━━━━━━━━━━━━━━━━━━\u001b[0m\u001b[37m\u001b[0m \u001b[1m1s\u001b[0m 8ms/step - attrition_output_accuracy: 0.9226 - attrition_output_loss: 0.1940 - department_output_accuracy: 0.8550 - department_output_loss: 0.4242 - loss: 0.6180 - val_attrition_output_accuracy: 0.8333 - val_attrition_output_loss: 0.4801 - val_department_output_accuracy: 0.5646 - val_department_output_loss: 0.9651 - val_loss: 1.4733\n",
      "Epoch 30/100\n",
      "\u001b[1m37/37\u001b[0m \u001b[32m━━━━━━━━━━━━━━━━━━━━\u001b[0m\u001b[37m\u001b[0m \u001b[1m0s\u001b[0m 7ms/step - attrition_output_accuracy: 0.9188 - attrition_output_loss: 0.2145 - department_output_accuracy: 0.8391 - department_output_loss: 0.4315 - loss: 0.6460 - val_attrition_output_accuracy: 0.8537 - val_attrition_output_loss: 0.4487 - val_department_output_accuracy: 0.5646 - val_department_output_loss: 1.0041 - val_loss: 1.5005\n",
      "Epoch 31/100\n",
      "\u001b[1m37/37\u001b[0m \u001b[32m━━━━━━━━━━━━━━━━━━━━\u001b[0m\u001b[37m\u001b[0m \u001b[1m0s\u001b[0m 10ms/step - attrition_output_accuracy: 0.9215 - attrition_output_loss: 0.2123 - department_output_accuracy: 0.8297 - department_output_loss: 0.4485 - loss: 0.6609 - val_attrition_output_accuracy: 0.8401 - val_attrition_output_loss: 0.4628 - val_department_output_accuracy: 0.6361 - val_department_output_loss: 0.9948 - val_loss: 1.5220\n",
      "Epoch 32/100\n",
      "\u001b[1m37/37\u001b[0m \u001b[32m━━━━━━━━━━━━━━━━━━━━\u001b[0m\u001b[37m\u001b[0m \u001b[1m0s\u001b[0m 8ms/step - attrition_output_accuracy: 0.9240 - attrition_output_loss: 0.1861 - department_output_accuracy: 0.8284 - department_output_loss: 0.4168 - loss: 0.6028 - val_attrition_output_accuracy: 0.8537 - val_attrition_output_loss: 0.4601 - val_department_output_accuracy: 0.6463 - val_department_output_loss: 0.9979 - val_loss: 1.5115\n",
      "Epoch 33/100\n",
      "\u001b[1m37/37\u001b[0m \u001b[32m━━━━━━━━━━━━━━━━━━━━\u001b[0m\u001b[37m\u001b[0m \u001b[1m0s\u001b[0m 10ms/step - attrition_output_accuracy: 0.9278 - attrition_output_loss: 0.1840 - department_output_accuracy: 0.8145 - department_output_loss: 0.4419 - loss: 0.6259 - val_attrition_output_accuracy: 0.8469 - val_attrition_output_loss: 0.4919 - val_department_output_accuracy: 0.6020 - val_department_output_loss: 1.0001 - val_loss: 1.5233\n",
      "Epoch 34/100\n",
      "\u001b[1m37/37\u001b[0m \u001b[32m━━━━━━━━━━━━━━━━━━━━\u001b[0m\u001b[37m\u001b[0m \u001b[1m0s\u001b[0m 8ms/step - attrition_output_accuracy: 0.9314 - attrition_output_loss: 0.1802 - department_output_accuracy: 0.8695 - department_output_loss: 0.3826 - loss: 0.5628 - val_attrition_output_accuracy: 0.8503 - val_attrition_output_loss: 0.4855 - val_department_output_accuracy: 0.5782 - val_department_output_loss: 1.0486 - val_loss: 1.5839\n",
      "Epoch 35/100\n",
      "\u001b[1m37/37\u001b[0m \u001b[32m━━━━━━━━━━━━━━━━━━━━\u001b[0m\u001b[37m\u001b[0m \u001b[1m0s\u001b[0m 9ms/step - attrition_output_accuracy: 0.9284 - attrition_output_loss: 0.1729 - department_output_accuracy: 0.8497 - department_output_loss: 0.3725 - loss: 0.5454 - val_attrition_output_accuracy: 0.8367 - val_attrition_output_loss: 0.5449 - val_department_output_accuracy: 0.5850 - val_department_output_loss: 1.0671 - val_loss: 1.6464\n",
      "Epoch 36/100\n",
      "\u001b[1m37/37\u001b[0m \u001b[32m━━━━━━━━━━━━━━━━━━━━\u001b[0m\u001b[37m\u001b[0m \u001b[1m0s\u001b[0m 7ms/step - attrition_output_accuracy: 0.9240 - attrition_output_loss: 0.1843 - department_output_accuracy: 0.8693 - department_output_loss: 0.3661 - loss: 0.5504 - val_attrition_output_accuracy: 0.8265 - val_attrition_output_loss: 0.5494 - val_department_output_accuracy: 0.6122 - val_department_output_loss: 1.0895 - val_loss: 1.6809\n",
      "Epoch 37/100\n",
      "\u001b[1m37/37\u001b[0m \u001b[32m━━━━━━━━━━━━━━━━━━━━\u001b[0m\u001b[37m\u001b[0m \u001b[1m0s\u001b[0m 8ms/step - attrition_output_accuracy: 0.9384 - attrition_output_loss: 0.1437 - department_output_accuracy: 0.8826 - department_output_loss: 0.3350 - loss: 0.4787 - val_attrition_output_accuracy: 0.8367 - val_attrition_output_loss: 0.5528 - val_department_output_accuracy: 0.5884 - val_department_output_loss: 1.1064 - val_loss: 1.7193\n",
      "Epoch 38/100\n",
      "\u001b[1m37/37\u001b[0m \u001b[32m━━━━━━━━━━━━━━━━━━━━\u001b[0m\u001b[37m\u001b[0m \u001b[1m1s\u001b[0m 12ms/step - attrition_output_accuracy: 0.9390 - attrition_output_loss: 0.1569 - department_output_accuracy: 0.8880 - department_output_loss: 0.3260 - loss: 0.4829 - val_attrition_output_accuracy: 0.8265 - val_attrition_output_loss: 0.5500 - val_department_output_accuracy: 0.5680 - val_department_output_loss: 1.1004 - val_loss: 1.7001\n",
      "Epoch 39/100\n",
      "\u001b[1m37/37\u001b[0m \u001b[32m━━━━━━━━━━━━━━━━━━━━\u001b[0m\u001b[37m\u001b[0m \u001b[1m0s\u001b[0m 8ms/step - attrition_output_accuracy: 0.9550 - attrition_output_loss: 0.1375 - department_output_accuracy: 0.9012 - department_output_loss: 0.3233 - loss: 0.4608 - val_attrition_output_accuracy: 0.8469 - val_attrition_output_loss: 0.5497 - val_department_output_accuracy: 0.6122 - val_department_output_loss: 1.0963 - val_loss: 1.7306\n",
      "Epoch 40/100\n",
      "\u001b[1m37/37\u001b[0m \u001b[32m━━━━━━━━━━━━━━━━━━━━\u001b[0m\u001b[37m\u001b[0m \u001b[1m0s\u001b[0m 9ms/step - attrition_output_accuracy: 0.9545 - attrition_output_loss: 0.1410 - department_output_accuracy: 0.8841 - department_output_loss: 0.3265 - loss: 0.4676 - val_attrition_output_accuracy: 0.8299 - val_attrition_output_loss: 0.5929 - val_department_output_accuracy: 0.6088 - val_department_output_loss: 1.1699 - val_loss: 1.8300\n",
      "Epoch 41/100\n",
      "\u001b[1m37/37\u001b[0m \u001b[32m━━━━━━━━━━━━━━━━━━━━\u001b[0m\u001b[37m\u001b[0m \u001b[1m0s\u001b[0m 8ms/step - attrition_output_accuracy: 0.9610 - attrition_output_loss: 0.1271 - department_output_accuracy: 0.8887 - department_output_loss: 0.3109 - loss: 0.4380 - val_attrition_output_accuracy: 0.8401 - val_attrition_output_loss: 0.5902 - val_department_output_accuracy: 0.5646 - val_department_output_loss: 1.1812 - val_loss: 1.8228\n",
      "Epoch 42/100\n",
      "\u001b[1m37/37\u001b[0m \u001b[32m━━━━━━━━━━━━━━━━━━━━\u001b[0m\u001b[37m\u001b[0m \u001b[1m0s\u001b[0m 7ms/step - attrition_output_accuracy: 0.9476 - attrition_output_loss: 0.1317 - department_output_accuracy: 0.8878 - department_output_loss: 0.3126 - loss: 0.4443 - val_attrition_output_accuracy: 0.8265 - val_attrition_output_loss: 0.6276 - val_department_output_accuracy: 0.5918 - val_department_output_loss: 1.2344 - val_loss: 1.9303\n",
      "Epoch 43/100\n",
      "\u001b[1m37/37\u001b[0m \u001b[32m━━━━━━━━━━━━━━━━━━━━\u001b[0m\u001b[37m\u001b[0m \u001b[1m0s\u001b[0m 8ms/step - attrition_output_accuracy: 0.9648 - attrition_output_loss: 0.1245 - department_output_accuracy: 0.8826 - department_output_loss: 0.2863 - loss: 0.4108 - val_attrition_output_accuracy: 0.8163 - val_attrition_output_loss: 0.6588 - val_department_output_accuracy: 0.5204 - val_department_output_loss: 1.2690 - val_loss: 1.9633\n",
      "Epoch 44/100\n",
      "\u001b[1m37/37\u001b[0m \u001b[32m━━━━━━━━━━━━━━━━━━━━\u001b[0m\u001b[37m\u001b[0m \u001b[1m1s\u001b[0m 8ms/step - attrition_output_accuracy: 0.9566 - attrition_output_loss: 0.1315 - department_output_accuracy: 0.9036 - department_output_loss: 0.2831 - loss: 0.4146 - val_attrition_output_accuracy: 0.8333 - val_attrition_output_loss: 0.6636 - val_department_output_accuracy: 0.5442 - val_department_output_loss: 1.2458 - val_loss: 1.9512\n",
      "Epoch 45/100\n",
      "\u001b[1m37/37\u001b[0m \u001b[32m━━━━━━━━━━━━━━━━━━━━\u001b[0m\u001b[37m\u001b[0m \u001b[1m0s\u001b[0m 7ms/step - attrition_output_accuracy: 0.9711 - attrition_output_loss: 0.0991 - department_output_accuracy: 0.9288 - department_output_loss: 0.2547 - loss: 0.3537 - val_attrition_output_accuracy: 0.8265 - val_attrition_output_loss: 0.6607 - val_department_output_accuracy: 0.5680 - val_department_output_loss: 1.2789 - val_loss: 2.0041\n",
      "Epoch 46/100\n",
      "\u001b[1m37/37\u001b[0m \u001b[32m━━━━━━━━━━━━━━━━━━━━\u001b[0m\u001b[37m\u001b[0m \u001b[1m0s\u001b[0m 7ms/step - attrition_output_accuracy: 0.9494 - attrition_output_loss: 0.1363 - department_output_accuracy: 0.8974 - department_output_loss: 0.2725 - loss: 0.4088 - val_attrition_output_accuracy: 0.8333 - val_attrition_output_loss: 0.6894 - val_department_output_accuracy: 0.5714 - val_department_output_loss: 1.3345 - val_loss: 2.0602\n",
      "Epoch 47/100\n",
      "\u001b[1m37/37\u001b[0m \u001b[32m━━━━━━━━━━━━━━━━━━━━\u001b[0m\u001b[37m\u001b[0m \u001b[1m0s\u001b[0m 8ms/step - attrition_output_accuracy: 0.9580 - attrition_output_loss: 0.1144 - department_output_accuracy: 0.9225 - department_output_loss: 0.2481 - loss: 0.3625 - val_attrition_output_accuracy: 0.8299 - val_attrition_output_loss: 0.7134 - val_department_output_accuracy: 0.5510 - val_department_output_loss: 1.3224 - val_loss: 2.1088\n",
      "Epoch 48/100\n",
      "\u001b[1m37/37\u001b[0m \u001b[32m━━━━━━━━━━━━━━━━━━━━\u001b[0m\u001b[37m\u001b[0m \u001b[1m0s\u001b[0m 8ms/step - attrition_output_accuracy: 0.9554 - attrition_output_loss: 0.1214 - department_output_accuracy: 0.9101 - department_output_loss: 0.2527 - loss: 0.3741 - val_attrition_output_accuracy: 0.8231 - val_attrition_output_loss: 0.7067 - val_department_output_accuracy: 0.5442 - val_department_output_loss: 1.3665 - val_loss: 2.1453\n",
      "Epoch 49/100\n",
      "\u001b[1m37/37\u001b[0m \u001b[32m━━━━━━━━━━━━━━━━━━━━\u001b[0m\u001b[37m\u001b[0m \u001b[1m0s\u001b[0m 8ms/step - attrition_output_accuracy: 0.9670 - attrition_output_loss: 0.0903 - department_output_accuracy: 0.9449 - department_output_loss: 0.2081 - loss: 0.2984 - val_attrition_output_accuracy: 0.8129 - val_attrition_output_loss: 0.7098 - val_department_output_accuracy: 0.5374 - val_department_output_loss: 1.3549 - val_loss: 2.1526\n",
      "Epoch 50/100\n",
      "\u001b[1m37/37\u001b[0m \u001b[32m━━━━━━━━━━━━━━━━━━━━\u001b[0m\u001b[37m\u001b[0m \u001b[1m0s\u001b[0m 8ms/step - attrition_output_accuracy: 0.9700 - attrition_output_loss: 0.1034 - department_output_accuracy: 0.9219 - department_output_loss: 0.2213 - loss: 0.3246 - val_attrition_output_accuracy: 0.8129 - val_attrition_output_loss: 0.7541 - val_department_output_accuracy: 0.5714 - val_department_output_loss: 1.3802 - val_loss: 2.2218\n",
      "Epoch 51/100\n",
      "\u001b[1m37/37\u001b[0m \u001b[32m━━━━━━━━━━━━━━━━━━━━\u001b[0m\u001b[37m\u001b[0m \u001b[1m0s\u001b[0m 7ms/step - attrition_output_accuracy: 0.9759 - attrition_output_loss: 0.0856 - department_output_accuracy: 0.9503 - department_output_loss: 0.1956 - loss: 0.2812 - val_attrition_output_accuracy: 0.8299 - val_attrition_output_loss: 0.7897 - val_department_output_accuracy: 0.5510 - val_department_output_loss: 1.3917 - val_loss: 2.2603\n",
      "Epoch 52/100\n",
      "\u001b[1m37/37\u001b[0m \u001b[32m━━━━━━━━━━━━━━━━━━━━\u001b[0m\u001b[37m\u001b[0m \u001b[1m0s\u001b[0m 7ms/step - attrition_output_accuracy: 0.9740 - attrition_output_loss: 0.0799 - department_output_accuracy: 0.9376 - department_output_loss: 0.2018 - loss: 0.2817 - val_attrition_output_accuracy: 0.8571 - val_attrition_output_loss: 0.7795 - val_department_output_accuracy: 0.5578 - val_department_output_loss: 1.4229 - val_loss: 2.3012\n",
      "Epoch 53/100\n",
      "\u001b[1m37/37\u001b[0m \u001b[32m━━━━━━━━━━━━━━━━━━━━\u001b[0m\u001b[37m\u001b[0m \u001b[1m0s\u001b[0m 7ms/step - attrition_output_accuracy: 0.9642 - attrition_output_loss: 0.0917 - department_output_accuracy: 0.9468 - department_output_loss: 0.1930 - loss: 0.2847 - val_attrition_output_accuracy: 0.8129 - val_attrition_output_loss: 0.8440 - val_department_output_accuracy: 0.5714 - val_department_output_loss: 1.4482 - val_loss: 2.3745\n",
      "Epoch 54/100\n",
      "\u001b[1m37/37\u001b[0m \u001b[32m━━━━━━━━━━━━━━━━━━━━\u001b[0m\u001b[37m\u001b[0m \u001b[1m0s\u001b[0m 7ms/step - attrition_output_accuracy: 0.9777 - attrition_output_loss: 0.0793 - department_output_accuracy: 0.9447 - department_output_loss: 0.1972 - loss: 0.2765 - val_attrition_output_accuracy: 0.8197 - val_attrition_output_loss: 0.8763 - val_department_output_accuracy: 0.5340 - val_department_output_loss: 1.4926 - val_loss: 2.4178\n",
      "Epoch 55/100\n",
      "\u001b[1m37/37\u001b[0m \u001b[32m━━━━━━━━━━━━━━━━━━━━\u001b[0m\u001b[37m\u001b[0m \u001b[1m0s\u001b[0m 7ms/step - attrition_output_accuracy: 0.9775 - attrition_output_loss: 0.0738 - department_output_accuracy: 0.9640 - department_output_loss: 0.1723 - loss: 0.2461 - val_attrition_output_accuracy: 0.8265 - val_attrition_output_loss: 0.9031 - val_department_output_accuracy: 0.5544 - val_department_output_loss: 1.5450 - val_loss: 2.5034\n",
      "Epoch 56/100\n",
      "\u001b[1m37/37\u001b[0m \u001b[32m━━━━━━━━━━━━━━━━━━━━\u001b[0m\u001b[37m\u001b[0m \u001b[1m0s\u001b[0m 7ms/step - attrition_output_accuracy: 0.9795 - attrition_output_loss: 0.0689 - department_output_accuracy: 0.9550 - department_output_loss: 0.1642 - loss: 0.2330 - val_attrition_output_accuracy: 0.8061 - val_attrition_output_loss: 0.9068 - val_department_output_accuracy: 0.6020 - val_department_output_loss: 1.5221 - val_loss: 2.5019\n",
      "Epoch 57/100\n",
      "\u001b[1m37/37\u001b[0m \u001b[32m━━━━━━━━━━━━━━━━━━━━\u001b[0m\u001b[37m\u001b[0m \u001b[1m0s\u001b[0m 9ms/step - attrition_output_accuracy: 0.9781 - attrition_output_loss: 0.0742 - department_output_accuracy: 0.9649 - department_output_loss: 0.1678 - loss: 0.2420 - val_attrition_output_accuracy: 0.8469 - val_attrition_output_loss: 0.8888 - val_department_output_accuracy: 0.5612 - val_department_output_loss: 1.5610 - val_loss: 2.5713\n",
      "Epoch 58/100\n",
      "\u001b[1m37/37\u001b[0m \u001b[32m━━━━━━━━━━━━━━━━━━━━\u001b[0m\u001b[37m\u001b[0m \u001b[1m0s\u001b[0m 6ms/step - attrition_output_accuracy: 0.9745 - attrition_output_loss: 0.0817 - department_output_accuracy: 0.9572 - department_output_loss: 0.1538 - loss: 0.2356 - val_attrition_output_accuracy: 0.7993 - val_attrition_output_loss: 0.9266 - val_department_output_accuracy: 0.5646 - val_department_output_loss: 1.5568 - val_loss: 2.5915\n",
      "Epoch 59/100\n",
      "\u001b[1m37/37\u001b[0m \u001b[32m━━━━━━━━━━━━━━━━━━━━\u001b[0m\u001b[37m\u001b[0m \u001b[1m0s\u001b[0m 7ms/step - attrition_output_accuracy: 0.9820 - attrition_output_loss: 0.0683 - department_output_accuracy: 0.9709 - department_output_loss: 0.1409 - loss: 0.2092 - val_attrition_output_accuracy: 0.7993 - val_attrition_output_loss: 0.9100 - val_department_output_accuracy: 0.5544 - val_department_output_loss: 1.5643 - val_loss: 2.5932\n",
      "Epoch 60/100\n",
      "\u001b[1m37/37\u001b[0m \u001b[32m━━━━━━━━━━━━━━━━━━━━\u001b[0m\u001b[37m\u001b[0m \u001b[1m0s\u001b[0m 8ms/step - attrition_output_accuracy: 0.9838 - attrition_output_loss: 0.0593 - department_output_accuracy: 0.9749 - department_output_loss: 0.1230 - loss: 0.1823 - val_attrition_output_accuracy: 0.7959 - val_attrition_output_loss: 0.9811 - val_department_output_accuracy: 0.5714 - val_department_output_loss: 1.6185 - val_loss: 2.7237\n",
      "Epoch 61/100\n",
      "\u001b[1m37/37\u001b[0m \u001b[32m━━━━━━━━━━━━━━━━━━━━\u001b[0m\u001b[37m\u001b[0m \u001b[1m0s\u001b[0m 7ms/step - attrition_output_accuracy: 0.9864 - attrition_output_loss: 0.0477 - department_output_accuracy: 0.9674 - department_output_loss: 0.1398 - loss: 0.1874 - val_attrition_output_accuracy: 0.8095 - val_attrition_output_loss: 0.9696 - val_department_output_accuracy: 0.5578 - val_department_output_loss: 1.6030 - val_loss: 2.7086\n",
      "Epoch 62/100\n",
      "\u001b[1m37/37\u001b[0m \u001b[32m━━━━━━━━━━━━━━━━━━━━\u001b[0m\u001b[37m\u001b[0m \u001b[1m0s\u001b[0m 7ms/step - attrition_output_accuracy: 0.9926 - attrition_output_loss: 0.0509 - department_output_accuracy: 0.9704 - department_output_loss: 0.1253 - loss: 0.1761 - val_attrition_output_accuracy: 0.7755 - val_attrition_output_loss: 1.0712 - val_department_output_accuracy: 0.5544 - val_department_output_loss: 1.6698 - val_loss: 2.8543\n",
      "Epoch 63/100\n",
      "\u001b[1m37/37\u001b[0m \u001b[32m━━━━━━━━━━━━━━━━━━━━\u001b[0m\u001b[37m\u001b[0m \u001b[1m0s\u001b[0m 7ms/step - attrition_output_accuracy: 0.9918 - attrition_output_loss: 0.0446 - department_output_accuracy: 0.9833 - department_output_loss: 0.1131 - loss: 0.1577 - val_attrition_output_accuracy: 0.8095 - val_attrition_output_loss: 0.9979 - val_department_output_accuracy: 0.5510 - val_department_output_loss: 1.7316 - val_loss: 2.8641\n",
      "Epoch 64/100\n",
      "\u001b[1m37/37\u001b[0m \u001b[32m━━━━━━━━━━━━━━━━━━━━\u001b[0m\u001b[37m\u001b[0m \u001b[1m0s\u001b[0m 7ms/step - attrition_output_accuracy: 0.9856 - attrition_output_loss: 0.0505 - department_output_accuracy: 0.9705 - department_output_loss: 0.1155 - loss: 0.1659 - val_attrition_output_accuracy: 0.7959 - val_attrition_output_loss: 1.0516 - val_department_output_accuracy: 0.5510 - val_department_output_loss: 1.7123 - val_loss: 2.8911\n",
      "Epoch 65/100\n",
      "\u001b[1m37/37\u001b[0m \u001b[32m━━━━━━━━━━━━━━━━━━━━\u001b[0m\u001b[37m\u001b[0m \u001b[1m0s\u001b[0m 7ms/step - attrition_output_accuracy: 0.9901 - attrition_output_loss: 0.0485 - department_output_accuracy: 0.9774 - department_output_loss: 0.1115 - loss: 0.1600 - val_attrition_output_accuracy: 0.8027 - val_attrition_output_loss: 1.0766 - val_department_output_accuracy: 0.5204 - val_department_output_loss: 1.7791 - val_loss: 2.9465\n",
      "Epoch 66/100\n",
      "\u001b[1m37/37\u001b[0m \u001b[32m━━━━━━━━━━━━━━━━━━━━\u001b[0m\u001b[37m\u001b[0m \u001b[1m0s\u001b[0m 7ms/step - attrition_output_accuracy: 0.9890 - attrition_output_loss: 0.0502 - department_output_accuracy: 0.9806 - department_output_loss: 0.1085 - loss: 0.1587 - val_attrition_output_accuracy: 0.7993 - val_attrition_output_loss: 1.1525 - val_department_output_accuracy: 0.5510 - val_department_output_loss: 1.7665 - val_loss: 3.0025\n",
      "Epoch 67/100\n",
      "\u001b[1m37/37\u001b[0m \u001b[32m━━━━━━━━━━━━━━━━━━━━\u001b[0m\u001b[37m\u001b[0m \u001b[1m0s\u001b[0m 6ms/step - attrition_output_accuracy: 0.9921 - attrition_output_loss: 0.0494 - department_output_accuracy: 0.9746 - department_output_loss: 0.1166 - loss: 0.1660 - val_attrition_output_accuracy: 0.7687 - val_attrition_output_loss: 1.1402 - val_department_output_accuracy: 0.5544 - val_department_output_loss: 1.8062 - val_loss: 3.0600\n",
      "Epoch 68/100\n",
      "\u001b[1m37/37\u001b[0m \u001b[32m━━━━━━━━━━━━━━━━━━━━\u001b[0m\u001b[37m\u001b[0m \u001b[1m0s\u001b[0m 7ms/step - attrition_output_accuracy: 0.9962 - attrition_output_loss: 0.0332 - department_output_accuracy: 0.9778 - department_output_loss: 0.1009 - loss: 0.1341 - val_attrition_output_accuracy: 0.7823 - val_attrition_output_loss: 1.1472 - val_department_output_accuracy: 0.5986 - val_department_output_loss: 1.8267 - val_loss: 3.1321\n",
      "Epoch 69/100\n",
      "\u001b[1m37/37\u001b[0m \u001b[32m━━━━━━━━━━━━━━━━━━━━\u001b[0m\u001b[37m\u001b[0m \u001b[1m0s\u001b[0m 7ms/step - attrition_output_accuracy: 0.9940 - attrition_output_loss: 0.0405 - department_output_accuracy: 0.9627 - department_output_loss: 0.1326 - loss: 0.1731 - val_attrition_output_accuracy: 0.7755 - val_attrition_output_loss: 1.2377 - val_department_output_accuracy: 0.5646 - val_department_output_loss: 1.8441 - val_loss: 3.1604\n",
      "Epoch 70/100\n",
      "\u001b[1m37/37\u001b[0m \u001b[32m━━━━━━━━━━━━━━━━━━━━\u001b[0m\u001b[37m\u001b[0m \u001b[1m0s\u001b[0m 7ms/step - attrition_output_accuracy: 0.9970 - attrition_output_loss: 0.0348 - department_output_accuracy: 0.9786 - department_output_loss: 0.0990 - loss: 0.1339 - val_attrition_output_accuracy: 0.7891 - val_attrition_output_loss: 1.2613 - val_department_output_accuracy: 0.5782 - val_department_output_loss: 1.9141 - val_loss: 3.3011\n",
      "Epoch 71/100\n",
      "\u001b[1m37/37\u001b[0m \u001b[32m━━━━━━━━━━━━━━━━━━━━\u001b[0m\u001b[37m\u001b[0m \u001b[1m0s\u001b[0m 7ms/step - attrition_output_accuracy: 0.9844 - attrition_output_loss: 0.0446 - department_output_accuracy: 0.9817 - department_output_loss: 0.0985 - loss: 0.1432 - val_attrition_output_accuracy: 0.8197 - val_attrition_output_loss: 1.1895 - val_department_output_accuracy: 0.5680 - val_department_output_loss: 1.8666 - val_loss: 3.2021\n",
      "Epoch 72/100\n",
      "\u001b[1m37/37\u001b[0m \u001b[32m━━━━━━━━━━━━━━━━━━━━\u001b[0m\u001b[37m\u001b[0m \u001b[1m0s\u001b[0m 7ms/step - attrition_output_accuracy: 0.9827 - attrition_output_loss: 0.0450 - department_output_accuracy: 0.9853 - department_output_loss: 0.0903 - loss: 0.1354 - val_attrition_output_accuracy: 0.7959 - val_attrition_output_loss: 1.1792 - val_department_output_accuracy: 0.5442 - val_department_output_loss: 1.9308 - val_loss: 3.2288\n",
      "Epoch 73/100\n",
      "\u001b[1m37/37\u001b[0m \u001b[32m━━━━━━━━━━━━━━━━━━━━\u001b[0m\u001b[37m\u001b[0m \u001b[1m0s\u001b[0m 7ms/step - attrition_output_accuracy: 0.9959 - attrition_output_loss: 0.0299 - department_output_accuracy: 0.9844 - department_output_loss: 0.0849 - loss: 0.1149 - val_attrition_output_accuracy: 0.8163 - val_attrition_output_loss: 1.2227 - val_department_output_accuracy: 0.5544 - val_department_output_loss: 1.9580 - val_loss: 3.3402\n",
      "Epoch 74/100\n",
      "\u001b[1m37/37\u001b[0m \u001b[32m━━━━━━━━━━━━━━━━━━━━\u001b[0m\u001b[37m\u001b[0m \u001b[1m0s\u001b[0m 9ms/step - attrition_output_accuracy: 0.9955 - attrition_output_loss: 0.0309 - department_output_accuracy: 0.9950 - department_output_loss: 0.0677 - loss: 0.0986 - val_attrition_output_accuracy: 0.7891 - val_attrition_output_loss: 1.2646 - val_department_output_accuracy: 0.5612 - val_department_output_loss: 1.9795 - val_loss: 3.3904\n",
      "Epoch 75/100\n",
      "\u001b[1m37/37\u001b[0m \u001b[32m━━━━━━━━━━━━━━━━━━━━\u001b[0m\u001b[37m\u001b[0m \u001b[1m0s\u001b[0m 7ms/step - attrition_output_accuracy: 0.9955 - attrition_output_loss: 0.0291 - department_output_accuracy: 0.9917 - department_output_loss: 0.0708 - loss: 0.0999 - val_attrition_output_accuracy: 0.7993 - val_attrition_output_loss: 1.3289 - val_department_output_accuracy: 0.5884 - val_department_output_loss: 1.9803 - val_loss: 3.4503\n",
      "Epoch 76/100\n",
      "\u001b[1m37/37\u001b[0m \u001b[32m━━━━━━━━━━━━━━━━━━━━\u001b[0m\u001b[37m\u001b[0m \u001b[1m0s\u001b[0m 7ms/step - attrition_output_accuracy: 0.9945 - attrition_output_loss: 0.0285 - department_output_accuracy: 0.9806 - department_output_loss: 0.0827 - loss: 0.1112 - val_attrition_output_accuracy: 0.8095 - val_attrition_output_loss: 1.3183 - val_department_output_accuracy: 0.5612 - val_department_output_loss: 1.9783 - val_loss: 3.4515\n",
      "Epoch 77/100\n",
      "\u001b[1m37/37\u001b[0m \u001b[32m━━━━━━━━━━━━━━━━━━━━\u001b[0m\u001b[37m\u001b[0m \u001b[1m0s\u001b[0m 7ms/step - attrition_output_accuracy: 0.9953 - attrition_output_loss: 0.0242 - department_output_accuracy: 0.9953 - department_output_loss: 0.0655 - loss: 0.0897 - val_attrition_output_accuracy: 0.7653 - val_attrition_output_loss: 1.3863 - val_department_output_accuracy: 0.5442 - val_department_output_loss: 2.0546 - val_loss: 3.5751\n",
      "Epoch 78/100\n",
      "\u001b[1m37/37\u001b[0m \u001b[32m━━━━━━━━━━━━━━━━━━━━\u001b[0m\u001b[37m\u001b[0m \u001b[1m0s\u001b[0m 7ms/step - attrition_output_accuracy: 0.9931 - attrition_output_loss: 0.0292 - department_output_accuracy: 0.9943 - department_output_loss: 0.0659 - loss: 0.0951 - val_attrition_output_accuracy: 0.7891 - val_attrition_output_loss: 1.3243 - val_department_output_accuracy: 0.5272 - val_department_output_loss: 2.1031 - val_loss: 3.5664\n",
      "Epoch 79/100\n",
      "\u001b[1m37/37\u001b[0m \u001b[32m━━━━━━━━━━━━━━━━━━━━\u001b[0m\u001b[37m\u001b[0m \u001b[1m0s\u001b[0m 7ms/step - attrition_output_accuracy: 0.9973 - attrition_output_loss: 0.0291 - department_output_accuracy: 0.9910 - department_output_loss: 0.0680 - loss: 0.0970 - val_attrition_output_accuracy: 0.8061 - val_attrition_output_loss: 1.3362 - val_department_output_accuracy: 0.5408 - val_department_output_loss: 2.1228 - val_loss: 3.6126\n",
      "Epoch 80/100\n",
      "\u001b[1m37/37\u001b[0m \u001b[32m━━━━━━━━━━━━━━━━━━━━\u001b[0m\u001b[37m\u001b[0m \u001b[1m0s\u001b[0m 7ms/step - attrition_output_accuracy: 0.9977 - attrition_output_loss: 0.0192 - department_output_accuracy: 0.9902 - department_output_loss: 0.0609 - loss: 0.0801 - val_attrition_output_accuracy: 0.7347 - val_attrition_output_loss: 1.5089 - val_department_output_accuracy: 0.5714 - val_department_output_loss: 2.1980 - val_loss: 3.8206\n",
      "Epoch 81/100\n",
      "\u001b[1m37/37\u001b[0m \u001b[32m━━━━━━━━━━━━━━━━━━━━\u001b[0m\u001b[37m\u001b[0m \u001b[1m0s\u001b[0m 7ms/step - attrition_output_accuracy: 0.9945 - attrition_output_loss: 0.0306 - department_output_accuracy: 0.9890 - department_output_loss: 0.0668 - loss: 0.0974 - val_attrition_output_accuracy: 0.8163 - val_attrition_output_loss: 1.3486 - val_department_output_accuracy: 0.5612 - val_department_output_loss: 2.1447 - val_loss: 3.6985\n",
      "Epoch 82/100\n",
      "\u001b[1m37/37\u001b[0m \u001b[32m━━━━━━━━━━━━━━━━━━━━\u001b[0m\u001b[37m\u001b[0m \u001b[1m0s\u001b[0m 9ms/step - attrition_output_accuracy: 0.9961 - attrition_output_loss: 0.0227 - department_output_accuracy: 0.9889 - department_output_loss: 0.0650 - loss: 0.0876 - val_attrition_output_accuracy: 0.8163 - val_attrition_output_loss: 1.3757 - val_department_output_accuracy: 0.5510 - val_department_output_loss: 2.1922 - val_loss: 3.7594\n",
      "Epoch 83/100\n",
      "\u001b[1m37/37\u001b[0m \u001b[32m━━━━━━━━━━━━━━━━━━━━\u001b[0m\u001b[37m\u001b[0m \u001b[1m0s\u001b[0m 6ms/step - attrition_output_accuracy: 0.9911 - attrition_output_loss: 0.0290 - department_output_accuracy: 0.9932 - department_output_loss: 0.0634 - loss: 0.0924 - val_attrition_output_accuracy: 0.8265 - val_attrition_output_loss: 1.4355 - val_department_output_accuracy: 0.5782 - val_department_output_loss: 2.1849 - val_loss: 3.8090\n",
      "Epoch 84/100\n",
      "\u001b[1m37/37\u001b[0m \u001b[32m━━━━━━━━━━━━━━━━━━━━\u001b[0m\u001b[37m\u001b[0m \u001b[1m0s\u001b[0m 6ms/step - attrition_output_accuracy: 0.9918 - attrition_output_loss: 0.0336 - department_output_accuracy: 0.9935 - department_output_loss: 0.0595 - loss: 0.0931 - val_attrition_output_accuracy: 0.7857 - val_attrition_output_loss: 1.4644 - val_department_output_accuracy: 0.5476 - val_department_output_loss: 2.2263 - val_loss: 3.8538\n",
      "Epoch 85/100\n",
      "\u001b[1m37/37\u001b[0m \u001b[32m━━━━━━━━━━━━━━━━━━━━\u001b[0m\u001b[37m\u001b[0m \u001b[1m0s\u001b[0m 6ms/step - attrition_output_accuracy: 0.9976 - attrition_output_loss: 0.0215 - department_output_accuracy: 0.9927 - department_output_loss: 0.0527 - loss: 0.0741 - val_attrition_output_accuracy: 0.8299 - val_attrition_output_loss: 1.4465 - val_department_output_accuracy: 0.5714 - val_department_output_loss: 2.1978 - val_loss: 3.8822\n",
      "Epoch 86/100\n",
      "\u001b[1m37/37\u001b[0m \u001b[32m━━━━━━━━━━━━━━━━━━━━\u001b[0m\u001b[37m\u001b[0m \u001b[1m0s\u001b[0m 6ms/step - attrition_output_accuracy: 0.9865 - attrition_output_loss: 0.0383 - department_output_accuracy: 0.9926 - department_output_loss: 0.0539 - loss: 0.0922 - val_attrition_output_accuracy: 0.8231 - val_attrition_output_loss: 1.4999 - val_department_output_accuracy: 0.5510 - val_department_output_loss: 2.2446 - val_loss: 3.9320\n",
      "Epoch 87/100\n",
      "\u001b[1m37/37\u001b[0m \u001b[32m━━━━━━━━━━━━━━━━━━━━\u001b[0m\u001b[37m\u001b[0m \u001b[1m0s\u001b[0m 7ms/step - attrition_output_accuracy: 0.9955 - attrition_output_loss: 0.0230 - department_output_accuracy: 0.9907 - department_output_loss: 0.0541 - loss: 0.0771 - val_attrition_output_accuracy: 0.7687 - val_attrition_output_loss: 1.5302 - val_department_output_accuracy: 0.5408 - val_department_output_loss: 2.2581 - val_loss: 3.9213\n",
      "Epoch 88/100\n",
      "\u001b[1m37/37\u001b[0m \u001b[32m━━━━━━━━━━━━━━━━━━━━\u001b[0m\u001b[37m\u001b[0m \u001b[1m0s\u001b[0m 6ms/step - attrition_output_accuracy: 0.9977 - attrition_output_loss: 0.0202 - department_output_accuracy: 0.9946 - department_output_loss: 0.0439 - loss: 0.0640 - val_attrition_output_accuracy: 0.8129 - val_attrition_output_loss: 1.5207 - val_department_output_accuracy: 0.5646 - val_department_output_loss: 2.3131 - val_loss: 4.0397\n",
      "Epoch 89/100\n",
      "\u001b[1m37/37\u001b[0m \u001b[32m━━━━━━━━━━━━━━━━━━━━\u001b[0m\u001b[37m\u001b[0m \u001b[1m0s\u001b[0m 6ms/step - attrition_output_accuracy: 0.9968 - attrition_output_loss: 0.0175 - department_output_accuracy: 0.9970 - department_output_loss: 0.0413 - loss: 0.0588 - val_attrition_output_accuracy: 0.8027 - val_attrition_output_loss: 1.5145 - val_department_output_accuracy: 0.5544 - val_department_output_loss: 2.2843 - val_loss: 4.0010\n",
      "Epoch 90/100\n",
      "\u001b[1m37/37\u001b[0m \u001b[32m━━━━━━━━━━━━━━━━━━━━\u001b[0m\u001b[37m\u001b[0m \u001b[1m0s\u001b[0m 9ms/step - attrition_output_accuracy: 0.9996 - attrition_output_loss: 0.0176 - department_output_accuracy: 0.9968 - department_output_loss: 0.0429 - loss: 0.0605 - val_attrition_output_accuracy: 0.7959 - val_attrition_output_loss: 1.5898 - val_department_output_accuracy: 0.5510 - val_department_output_loss: 2.3796 - val_loss: 4.1159\n",
      "Epoch 91/100\n",
      "\u001b[1m37/37\u001b[0m \u001b[32m━━━━━━━━━━━━━━━━━━━━\u001b[0m\u001b[37m\u001b[0m \u001b[1m0s\u001b[0m 9ms/step - attrition_output_accuracy: 0.9979 - attrition_output_loss: 0.0145 - department_output_accuracy: 0.9966 - department_output_loss: 0.0423 - loss: 0.0567 - val_attrition_output_accuracy: 0.8129 - val_attrition_output_loss: 1.5483 - val_department_output_accuracy: 0.5918 - val_department_output_loss: 2.4183 - val_loss: 4.1945\n",
      "Epoch 92/100\n",
      "\u001b[1m37/37\u001b[0m \u001b[32m━━━━━━━━━━━━━━━━━━━━\u001b[0m\u001b[37m\u001b[0m \u001b[1m1s\u001b[0m 7ms/step - attrition_output_accuracy: 0.9960 - attrition_output_loss: 0.0145 - department_output_accuracy: 0.9936 - department_output_loss: 0.0483 - loss: 0.0627 - val_attrition_output_accuracy: 0.7585 - val_attrition_output_loss: 1.6696 - val_department_output_accuracy: 0.5714 - val_department_output_loss: 2.4444 - val_loss: 4.2850\n",
      "Epoch 93/100\n",
      "\u001b[1m37/37\u001b[0m \u001b[32m━━━━━━━━━━━━━━━━━━━━\u001b[0m\u001b[37m\u001b[0m \u001b[1m0s\u001b[0m 7ms/step - attrition_output_accuracy: 0.9974 - attrition_output_loss: 0.0170 - department_output_accuracy: 0.9935 - department_output_loss: 0.0493 - loss: 0.0662 - val_attrition_output_accuracy: 0.8197 - val_attrition_output_loss: 1.5557 - val_department_output_accuracy: 0.5510 - val_department_output_loss: 2.4959 - val_loss: 4.2341\n",
      "Epoch 94/100\n",
      "\u001b[1m37/37\u001b[0m \u001b[32m━━━━━━━━━━━━━━━━━━━━\u001b[0m\u001b[37m\u001b[0m \u001b[1m0s\u001b[0m 7ms/step - attrition_output_accuracy: 0.9963 - attrition_output_loss: 0.0180 - department_output_accuracy: 0.9965 - department_output_loss: 0.0371 - loss: 0.0551 - val_attrition_output_accuracy: 0.7891 - val_attrition_output_loss: 1.6358 - val_department_output_accuracy: 0.5170 - val_department_output_loss: 2.4507 - val_loss: 4.2553\n",
      "Epoch 95/100\n",
      "\u001b[1m37/37\u001b[0m \u001b[32m━━━━━━━━━━━━━━━━━━━━\u001b[0m\u001b[37m\u001b[0m \u001b[1m0s\u001b[0m 7ms/step - attrition_output_accuracy: 0.9984 - attrition_output_loss: 0.0124 - department_output_accuracy: 0.9976 - department_output_loss: 0.0394 - loss: 0.0518 - val_attrition_output_accuracy: 0.7925 - val_attrition_output_loss: 1.6340 - val_department_output_accuracy: 0.5578 - val_department_output_loss: 2.5071 - val_loss: 4.3120\n",
      "Epoch 96/100\n",
      "\u001b[1m37/37\u001b[0m \u001b[32m━━━━━━━━━━━━━━━━━━━━\u001b[0m\u001b[37m\u001b[0m \u001b[1m1s\u001b[0m 7ms/step - attrition_output_accuracy: 1.0000 - attrition_output_loss: 0.0096 - department_output_accuracy: 0.9942 - department_output_loss: 0.0441 - loss: 0.0537 - val_attrition_output_accuracy: 0.8061 - val_attrition_output_loss: 1.6484 - val_department_output_accuracy: 0.5816 - val_department_output_loss: 2.4907 - val_loss: 4.3547\n",
      "Epoch 97/100\n",
      "\u001b[1m37/37\u001b[0m \u001b[32m━━━━━━━━━━━━━━━━━━━━\u001b[0m\u001b[37m\u001b[0m \u001b[1m0s\u001b[0m 6ms/step - attrition_output_accuracy: 0.9960 - attrition_output_loss: 0.0144 - department_output_accuracy: 0.9970 - department_output_loss: 0.0333 - loss: 0.0477 - val_attrition_output_accuracy: 0.8027 - val_attrition_output_loss: 1.6737 - val_department_output_accuracy: 0.5578 - val_department_output_loss: 2.5211 - val_loss: 4.3843\n",
      "Epoch 98/100\n",
      "\u001b[1m37/37\u001b[0m \u001b[32m━━━━━━━━━━━━━━━━━━━━\u001b[0m\u001b[37m\u001b[0m \u001b[1m0s\u001b[0m 6ms/step - attrition_output_accuracy: 0.9996 - attrition_output_loss: 0.0120 - department_output_accuracy: 0.9976 - department_output_loss: 0.0323 - loss: 0.0443 - val_attrition_output_accuracy: 0.7823 - val_attrition_output_loss: 1.6586 - val_department_output_accuracy: 0.5646 - val_department_output_loss: 2.5357 - val_loss: 4.4089\n",
      "Epoch 99/100\n",
      "\u001b[1m37/37\u001b[0m \u001b[32m━━━━━━━━━━━━━━━━━━━━\u001b[0m\u001b[37m\u001b[0m \u001b[1m0s\u001b[0m 6ms/step - attrition_output_accuracy: 0.9954 - attrition_output_loss: 0.0179 - department_output_accuracy: 0.9983 - department_output_loss: 0.0301 - loss: 0.0480 - val_attrition_output_accuracy: 0.7755 - val_attrition_output_loss: 1.7204 - val_department_output_accuracy: 0.5476 - val_department_output_loss: 2.5923 - val_loss: 4.4825\n",
      "Epoch 100/100\n",
      "\u001b[1m37/37\u001b[0m \u001b[32m━━━━━━━━━━━━━━━━━━━━\u001b[0m\u001b[37m\u001b[0m \u001b[1m0s\u001b[0m 6ms/step - attrition_output_accuracy: 0.9977 - attrition_output_loss: 0.0110 - department_output_accuracy: 0.9966 - department_output_loss: 0.0332 - loss: 0.0442 - val_attrition_output_accuracy: 0.8061 - val_attrition_output_loss: 1.7089 - val_department_output_accuracy: 0.5612 - val_department_output_loss: 2.6034 - val_loss: 4.5150\n"
     ]
    }
   ],
   "source": [
    "history = model.fit(\n",
    "    X_train_scaled,  # Input features\n",
    "    {\n",
    "        \"department_output\": dept_train,  # Target for Department\n",
    "        \"attrition_output\": attrition_train,   # Target for Attrition\n",
    "    },\n",
    "    validation_data=(\n",
    "        X_test_scaled,  # Validation input features\n",
    "        {\n",
    "            \"department_output\": dept_test,  # Validation target for Department\n",
    "            \"attrition_output\": attrition_test,   # Validation target for Attrition\n",
    "        },\n",
    "    ),\n",
    "    epochs=100,\n",
    "    batch_size=32,\n",
    "    verbose=1,\n",
    ")"
   ]
  },
  {
   "cell_type": "code",
   "execution_count": 21,
   "metadata": {
    "colab": {
     "base_uri": "https://localhost:8080/"
    },
    "id": "VsMoaQlgGc3U",
    "outputId": "636c85ba-ee63-4087-b7d1-00b408f1055a"
   },
   "outputs": [],
   "source": [
    "# Evaluate the model\n",
    "results = model.evaluate(\n",
    "    X_test_scaled,\n",
    "    {\n",
    "        \"department_output\": dept_test,  # Test target for Department\n",
    "        \"attrition_output\": attrition_test,   # Test target for Attrition\n",
    "    },\n",
    "    verbose=0,\n",
    ")"
   ]
  },
  {
   "cell_type": "code",
   "execution_count": 22,
   "metadata": {
    "colab": {
     "base_uri": "https://localhost:8080/"
    },
    "id": "ZlCtlHi0Vt54",
    "outputId": "3a32435c-11cf-48da-81b5-1431d6c00da2"
   },
   "outputs": [
    {
     "name": "stdout",
     "output_type": "stream",
     "text": [
      "Test Loss: 4.515039443969727\n",
      "Department Accuracy: 0.8061224222183228\n",
      "Attrition Accuracy: 0.5612244606018066\n"
     ]
    }
   ],
   "source": [
    "# Print evaluation results\n",
    "print(f\"Test Loss: {results[0]}\")\n",
    "print(f\"Department Accuracy: {results[3]}\")\n",
    "print(f\"Attrition Accuracy: {results[4]}\")"
   ]
  },
  {
   "cell_type": "markdown",
   "metadata": {
    "id": "pi9SLpFnWvbF"
   },
   "source": [
    "# Summary\n",
    "\n",
    "1. **Is accuracy the best metric to use on this data? Why or why not?**\n",
    "\n",
    "   Accuracy might not be the best metric for this model because the dataset could be imbalanced, which is common in classification tasks. In imbalanced datasets, accuracy can be misleading. The model may predict the majority class for most cases, which would still result in high accuracy but poor performance for the minority class. Other metrics like F1-score, precision, recall, or the area under the ROC curve (AUC-ROC) would be more informative, especially when dealing with class imbalance.\n",
    "\n",
    "2. **What activation functions did you choose for your output layers, and why?**\n",
    "\n",
    "   For the output layers of classification tasks, a common choice is:\n",
    "   - **Softmax**: Used for multi-class classification problems, like predicting the \"department\" output, where the model needs to choose from multiple classes. Softmax provides a probability distribution across the classes.\n",
    "   - **Sigmoid**: Used for binary classification tasks, such as predicting attrition (yes/no). Sigmoid outputs probabilities for each class, with the result being a value between 0 and 1.\n",
    "\n",
    "3. **Can you name a few ways that this model might be improved?**\n",
    "\n",
    "   A few ways to improve the model:\n",
    "   - **Data Augmentation**: If the dataset is small or has class imbalance, augmenting the data through oversampling, undersampling, or techniques like SMOTE can help improve model performance.\n",
    "   - **Hyperparameter Tuning**: Tuning hyperparameters (such as learning rate, batch size, optimizer type like Adam vs. SGD) can enhance the convergence rate and generalization.\n",
    "   - **Regularization**: Implementing regularization techniques like dropout or L2 regularization can prevent overfitting, especially if the model is too complex for the dataset.\n",
    "   - **Feature Engineering**: Adding more relevant features or transforming existing ones (e.g., normalization or encoding categorical variables) can help the model capture better patterns in the data.\n",
    "   - **Ensemble Methods**: Combining predictions from multiple models (e.g., random forest, XGBoost) can boost the overall performance and reduce model variance.\n"
   ]
  }
 ],
 "metadata": {
  "colab": {
   "provenance": [],
   "toc_visible": true
  },
  "kernelspec": {
   "display_name": "dev",
   "language": "python",
   "name": "python3"
  },
  "language_info": {
   "codemirror_mode": {
    "name": "ipython",
    "version": 3
   },
   "file_extension": ".py",
   "mimetype": "text/x-python",
   "name": "python",
   "nbconvert_exporter": "python",
   "pygments_lexer": "ipython3",
   "version": "3.10.14"
  }
 },
 "nbformat": 4,
 "nbformat_minor": 0
}
